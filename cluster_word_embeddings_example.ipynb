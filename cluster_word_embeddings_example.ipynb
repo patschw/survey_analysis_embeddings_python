{
  "cells": [
    {
      "cell_type": "markdown",
      "metadata": {
        "id": "nMQBiJD9L6To"
      },
      "source": [
        "# Install libraries"
      ]
    },
    {
      "cell_type": "code",
      "execution_count": 2,
      "metadata": {
        "colab": {
          "base_uri": "https://localhost:8080/"
        },
        "id": "zMSYPypDqlOD",
        "outputId": "308c48ec-b493-4894-c1a9-2b5756f918dc"
      },
      "outputs": [
        {
          "name": "stdout",
          "output_type": "stream",
          "text": [
            "Collecting umap-learn\n",
            "  Downloading umap-learn-0.5.3.tar.gz (88 kB)\n",
            "\u001b[2K     \u001b[90m━━━━━━━━━━━━━━━━━━━━━━━━━━━━━━━━━━━━━━━━\u001b[0m \u001b[32m88.2/88.2 kB\u001b[0m \u001b[31m7.9 MB/s\u001b[0m eta \u001b[36m0:00:00\u001b[0m\n",
            "\u001b[?25h  Preparing metadata (setup.py) ... \u001b[?25l\u001b[?25hdone\n",
            "Requirement already satisfied: numpy>=1.17 in /usr/local/lib/python3.10/dist-packages (from umap-learn) (1.22.4)\n",
            "Requirement already satisfied: scikit-learn>=0.22 in /usr/local/lib/python3.10/dist-packages (from umap-learn) (1.2.2)\n",
            "Requirement already satisfied: scipy>=1.0 in /usr/local/lib/python3.10/dist-packages (from umap-learn) (1.10.1)\n",
            "Requirement already satisfied: numba>=0.49 in /usr/local/lib/python3.10/dist-packages (from umap-learn) (0.56.4)\n",
            "Collecting pynndescent>=0.5 (from umap-learn)\n",
            "  Downloading pynndescent-0.5.10.tar.gz (1.1 MB)\n",
            "\u001b[2K     \u001b[90m━━━━━━━━━━━━━━━━━━━━━━━━━━━━━━━━━━━━━━━━\u001b[0m \u001b[32m1.1/1.1 MB\u001b[0m \u001b[31m31.8 MB/s\u001b[0m eta \u001b[36m0:00:00\u001b[0m\n",
            "\u001b[?25h  Preparing metadata (setup.py) ... \u001b[?25l\u001b[?25hdone\n",
            "Requirement already satisfied: tqdm in /usr/local/lib/python3.10/dist-packages (from umap-learn) (4.65.0)\n",
            "Requirement already satisfied: llvmlite<0.40,>=0.39.0dev0 in /usr/local/lib/python3.10/dist-packages (from numba>=0.49->umap-learn) (0.39.1)\n",
            "Requirement already satisfied: setuptools in /usr/local/lib/python3.10/dist-packages (from numba>=0.49->umap-learn) (67.7.2)\n",
            "Requirement already satisfied: joblib>=0.11 in /usr/local/lib/python3.10/dist-packages (from pynndescent>=0.5->umap-learn) (1.3.1)\n",
            "Requirement already satisfied: threadpoolctl>=2.0.0 in /usr/local/lib/python3.10/dist-packages (from scikit-learn>=0.22->umap-learn) (3.1.0)\n",
            "Building wheels for collected packages: umap-learn, pynndescent\n",
            "  Building wheel for umap-learn (setup.py) ... \u001b[?25l\u001b[?25hdone\n",
            "  Created wheel for umap-learn: filename=umap_learn-0.5.3-py3-none-any.whl size=82816 sha256=cf847f5d3e6d271423923231d7d169767272b0dca7694a7a98597ec85bca42a3\n",
            "  Stored in directory: /root/.cache/pip/wheels/a0/e8/c6/a37ea663620bd5200ea1ba0907ab3c217042c1d035ef606acc\n",
            "  Building wheel for pynndescent (setup.py) ... \u001b[?25l\u001b[?25hdone\n",
            "  Created wheel for pynndescent: filename=pynndescent-0.5.10-py3-none-any.whl size=55622 sha256=052365aea221482a37fbe7abd64de404469d2db22bd98db7a5dd86d01040b99a\n",
            "  Stored in directory: /root/.cache/pip/wheels/4a/38/5d/f60a40a66a9512b7e5e83517ebc2d1b42d857be97d135f1096\n",
            "Successfully built umap-learn pynndescent\n",
            "Installing collected packages: pynndescent, umap-learn\n",
            "Successfully installed pynndescent-0.5.10 umap-learn-0.5.3\n",
            "Collecting sentence_transformers\n",
            "  Downloading sentence-transformers-2.2.2.tar.gz (85 kB)\n",
            "\u001b[2K     \u001b[90m━━━━━━━━━━━━━━━━━━━━━━━━━━━━━━━━━━━━━━━━\u001b[0m \u001b[32m86.0/86.0 kB\u001b[0m \u001b[31m3.5 MB/s\u001b[0m eta \u001b[36m0:00:00\u001b[0m\n",
            "\u001b[?25h  Preparing metadata (setup.py) ... \u001b[?25l\u001b[?25hdone\n",
            "Collecting transformers<5.0.0,>=4.6.0 (from sentence_transformers)\n",
            "  Downloading transformers-4.31.0-py3-none-any.whl (7.4 MB)\n",
            "\u001b[2K     \u001b[90m━━━━━━━━━━━━━━━━━━━━━━━━━━━━━━━━━━━━━━━━\u001b[0m \u001b[32m7.4/7.4 MB\u001b[0m \u001b[31m99.1 MB/s\u001b[0m eta \u001b[36m0:00:00\u001b[0m\n",
            "\u001b[?25hRequirement already satisfied: tqdm in /usr/local/lib/python3.10/dist-packages (from sentence_transformers) (4.65.0)\n",
            "Requirement already satisfied: torch>=1.6.0 in /usr/local/lib/python3.10/dist-packages (from sentence_transformers) (2.0.1+cu118)\n",
            "Requirement already satisfied: torchvision in /usr/local/lib/python3.10/dist-packages (from sentence_transformers) (0.15.2+cu118)\n",
            "Requirement already satisfied: numpy in /usr/local/lib/python3.10/dist-packages (from sentence_transformers) (1.22.4)\n",
            "Requirement already satisfied: scikit-learn in /usr/local/lib/python3.10/dist-packages (from sentence_transformers) (1.2.2)\n",
            "Requirement already satisfied: scipy in /usr/local/lib/python3.10/dist-packages (from sentence_transformers) (1.10.1)\n",
            "Requirement already satisfied: nltk in /usr/local/lib/python3.10/dist-packages (from sentence_transformers) (3.8.1)\n",
            "Collecting sentencepiece (from sentence_transformers)\n",
            "  Downloading sentencepiece-0.1.99-cp310-cp310-manylinux_2_17_x86_64.manylinux2014_x86_64.whl (1.3 MB)\n",
            "\u001b[2K     \u001b[90m━━━━━━━━━━━━━━━━━━━━━━━━━━━━━━━━━━━━━━━━\u001b[0m \u001b[32m1.3/1.3 MB\u001b[0m \u001b[31m85.4 MB/s\u001b[0m eta \u001b[36m0:00:00\u001b[0m\n",
            "\u001b[?25hCollecting huggingface-hub>=0.4.0 (from sentence_transformers)\n",
            "  Downloading huggingface_hub-0.16.4-py3-none-any.whl (268 kB)\n",
            "\u001b[2K     \u001b[90m━━━━━━━━━━━━━━━━━━━━━━━━━━━━━━━━━━━━━━\u001b[0m \u001b[32m268.8/268.8 kB\u001b[0m \u001b[31m33.9 MB/s\u001b[0m eta \u001b[36m0:00:00\u001b[0m\n",
            "\u001b[?25hRequirement already satisfied: filelock in /usr/local/lib/python3.10/dist-packages (from huggingface-hub>=0.4.0->sentence_transformers) (3.12.2)\n",
            "Requirement already satisfied: fsspec in /usr/local/lib/python3.10/dist-packages (from huggingface-hub>=0.4.0->sentence_transformers) (2023.6.0)\n",
            "Requirement already satisfied: requests in /usr/local/lib/python3.10/dist-packages (from huggingface-hub>=0.4.0->sentence_transformers) (2.27.1)\n",
            "Requirement already satisfied: pyyaml>=5.1 in /usr/local/lib/python3.10/dist-packages (from huggingface-hub>=0.4.0->sentence_transformers) (6.0)\n",
            "Requirement already satisfied: typing-extensions>=3.7.4.3 in /usr/local/lib/python3.10/dist-packages (from huggingface-hub>=0.4.0->sentence_transformers) (4.7.1)\n",
            "Requirement already satisfied: packaging>=20.9 in /usr/local/lib/python3.10/dist-packages (from huggingface-hub>=0.4.0->sentence_transformers) (23.1)\n",
            "Requirement already satisfied: sympy in /usr/local/lib/python3.10/dist-packages (from torch>=1.6.0->sentence_transformers) (1.11.1)\n",
            "Requirement already satisfied: networkx in /usr/local/lib/python3.10/dist-packages (from torch>=1.6.0->sentence_transformers) (3.1)\n",
            "Requirement already satisfied: jinja2 in /usr/local/lib/python3.10/dist-packages (from torch>=1.6.0->sentence_transformers) (3.1.2)\n",
            "Requirement already satisfied: triton==2.0.0 in /usr/local/lib/python3.10/dist-packages (from torch>=1.6.0->sentence_transformers) (2.0.0)\n",
            "Requirement already satisfied: cmake in /usr/local/lib/python3.10/dist-packages (from triton==2.0.0->torch>=1.6.0->sentence_transformers) (3.25.2)\n",
            "Requirement already satisfied: lit in /usr/local/lib/python3.10/dist-packages (from triton==2.0.0->torch>=1.6.0->sentence_transformers) (16.0.6)\n",
            "Requirement already satisfied: regex!=2019.12.17 in /usr/local/lib/python3.10/dist-packages (from transformers<5.0.0,>=4.6.0->sentence_transformers) (2022.10.31)\n",
            "Collecting tokenizers!=0.11.3,<0.14,>=0.11.1 (from transformers<5.0.0,>=4.6.0->sentence_transformers)\n",
            "  Downloading tokenizers-0.13.3-cp310-cp310-manylinux_2_17_x86_64.manylinux2014_x86_64.whl (7.8 MB)\n",
            "\u001b[2K     \u001b[90m━━━━━━━━━━━━━━━━━━━━━━━━━━━━━━━━━━━━━━━━\u001b[0m \u001b[32m7.8/7.8 MB\u001b[0m \u001b[31m113.6 MB/s\u001b[0m eta \u001b[36m0:00:00\u001b[0m\n",
            "\u001b[?25hCollecting safetensors>=0.3.1 (from transformers<5.0.0,>=4.6.0->sentence_transformers)\n",
            "  Downloading safetensors-0.3.1-cp310-cp310-manylinux_2_17_x86_64.manylinux2014_x86_64.whl (1.3 MB)\n",
            "\u001b[2K     \u001b[90m━━━━━━━━━━━━━━━━━━━━━━━━━━━━━━━━━━━━━━━━\u001b[0m \u001b[32m1.3/1.3 MB\u001b[0m \u001b[31m34.4 MB/s\u001b[0m eta \u001b[36m0:00:00\u001b[0m\n",
            "\u001b[?25hRequirement already satisfied: click in /usr/local/lib/python3.10/dist-packages (from nltk->sentence_transformers) (8.1.4)\n",
            "Requirement already satisfied: joblib in /usr/local/lib/python3.10/dist-packages (from nltk->sentence_transformers) (1.3.1)\n",
            "Requirement already satisfied: threadpoolctl>=2.0.0 in /usr/local/lib/python3.10/dist-packages (from scikit-learn->sentence_transformers) (3.1.0)\n",
            "Requirement already satisfied: pillow!=8.3.*,>=5.3.0 in /usr/local/lib/python3.10/dist-packages (from torchvision->sentence_transformers) (8.4.0)\n",
            "Requirement already satisfied: MarkupSafe>=2.0 in /usr/local/lib/python3.10/dist-packages (from jinja2->torch>=1.6.0->sentence_transformers) (2.1.3)\n",
            "Requirement already satisfied: urllib3<1.27,>=1.21.1 in /usr/local/lib/python3.10/dist-packages (from requests->huggingface-hub>=0.4.0->sentence_transformers) (1.26.16)\n",
            "Requirement already satisfied: certifi>=2017.4.17 in /usr/local/lib/python3.10/dist-packages (from requests->huggingface-hub>=0.4.0->sentence_transformers) (2023.5.7)\n",
            "Requirement already satisfied: charset-normalizer~=2.0.0 in /usr/local/lib/python3.10/dist-packages (from requests->huggingface-hub>=0.4.0->sentence_transformers) (2.0.12)\n",
            "Requirement already satisfied: idna<4,>=2.5 in /usr/local/lib/python3.10/dist-packages (from requests->huggingface-hub>=0.4.0->sentence_transformers) (3.4)\n",
            "Requirement already satisfied: mpmath>=0.19 in /usr/local/lib/python3.10/dist-packages (from sympy->torch>=1.6.0->sentence_transformers) (1.3.0)\n",
            "Building wheels for collected packages: sentence_transformers\n",
            "  Building wheel for sentence_transformers (setup.py) ... \u001b[?25l\u001b[?25hdone\n",
            "  Created wheel for sentence_transformers: filename=sentence_transformers-2.2.2-py3-none-any.whl size=125926 sha256=250b03d995131eaea3d3b2443255e675d0ddba540d991aba30c682e9df45e324\n",
            "  Stored in directory: /root/.cache/pip/wheels/62/f2/10/1e606fd5f02395388f74e7462910fe851042f97238cbbd902f\n",
            "Successfully built sentence_transformers\n",
            "Installing collected packages: tokenizers, sentencepiece, safetensors, huggingface-hub, transformers, sentence_transformers\n",
            "Successfully installed huggingface-hub-0.16.4 safetensors-0.3.1 sentence_transformers-2.2.2 sentencepiece-0.1.99 tokenizers-0.13.3 transformers-4.31.0\n",
            "Requirement already satisfied: bokeh in /usr/local/lib/python3.10/dist-packages (2.4.3)\n",
            "Requirement already satisfied: Jinja2>=2.9 in /usr/local/lib/python3.10/dist-packages (from bokeh) (3.1.2)\n",
            "Requirement already satisfied: numpy>=1.11.3 in /usr/local/lib/python3.10/dist-packages (from bokeh) (1.22.4)\n",
            "Requirement already satisfied: packaging>=16.8 in /usr/local/lib/python3.10/dist-packages (from bokeh) (23.1)\n",
            "Requirement already satisfied: pillow>=7.1.0 in /usr/local/lib/python3.10/dist-packages (from bokeh) (8.4.0)\n",
            "Requirement already satisfied: PyYAML>=3.10 in /usr/local/lib/python3.10/dist-packages (from bokeh) (6.0)\n",
            "Requirement already satisfied: tornado>=5.1 in /usr/local/lib/python3.10/dist-packages (from bokeh) (6.3.1)\n",
            "Requirement already satisfied: typing-extensions>=3.10.0 in /usr/local/lib/python3.10/dist-packages (from bokeh) (4.7.1)\n",
            "Requirement already satisfied: MarkupSafe>=2.0 in /usr/local/lib/python3.10/dist-packages (from Jinja2>=2.9->bokeh) (2.1.3)\n"
          ]
        }
      ],
      "source": [
        "!pip install bokeh\n",
        "!pip install sentence-transformers\n",
        "!pip install umap-learn"
      ]
    },
    {
      "cell_type": "markdown",
      "metadata": {
        "id": "sjvEItt8L_VW"
      },
      "source": [
        "# Import libraries"
      ]
    },
    {
      "cell_type": "code",
      "execution_count": 8,
      "metadata": {
        "id": "3yhxVuGTnoIQ"
      },
      "outputs": [],
      "source": [
        "import bokeh.models as bmo # for mapping colors to clusters\n",
        "from bokeh.models import HoverTool, BoxSelectTool # for plotting\n",
        "import bokeh.plotting as bp # for plotting\n",
        "from bokeh.plotting import figure, show, output_notebook, save, output_file # for plotting\n",
        "from bokeh.palettes import d3 # for cluster colors\n",
        "\n",
        "import pandas as pd # for data handling\n",
        "\n",
        "from sentence_transformers import SentenceTransformer # for getting sentence embeddings\n",
        "\n",
        "from sklearn.manifold import TSNE # for dimension reduction\n",
        "from sklearn.cluster import KMeans # for clustering\n",
        "\n",
        "import umap # for dimension reduction"
      ]
    },
    {
      "cell_type": "markdown",
      "metadata": {
        "id": "jTSLleiXMJKW"
      },
      "source": [
        "# Load data\n"
      ]
    },
    {
      "cell_type": "code",
      "execution_count": 9,
      "metadata": {
        "id": "H-zkADLpmR9o"
      },
      "outputs": [],
      "source": [
        "# Read survey data\n",
        "survey_data = pd.read_csv(\"survey_queries_cluster.csv\", encoding=\"utf-8\", sep=\",\")\n",
        "survey_data_raw = survey_data\n",
        "survey_data['query'] = survey_data['query_mod']\n",
        "survey_data = survey_data.drop(['query_mod', 'thema'], axis = 1)"
      ]
    },
    {
      "cell_type": "markdown",
      "metadata": {
        "id": "kuDM4zFVoNx5"
      },
      "source": [
        "# Step 1: Filter data\n"
      ]
    },
    {
      "cell_type": "code",
      "execution_count": 10,
      "metadata": {
        "colab": {
          "base_uri": "https://localhost:8080/"
        },
        "id": "Zq4PkxQFoSB6",
        "outputId": "4acc8a4b-03ea-49a2-8c3e-6b486668b32b"
      },
      "outputs": [
        {
          "name": "stderr",
          "output_type": "stream",
          "text": [
            "<ipython-input-10-4060c2024160>:2: FutureWarning: Using the level keyword in DataFrame and Series aggregations is deprecated and will be removed in a future version. Use groupby instead. df.any(level=1) should use df.groupby(level=1).any()\n",
            "  survey_data = survey_data[~survey_data.stack().str.contains('|'.join(filter_words)).any(level=0)]\n"
          ]
        }
      ],
      "source": [
        "filter_words = [\"söder\", \"markus\", \"scholz\", \"olaf\", \"baerbock\", \"bärbock\", \"annalena\", \"laschet\", \"armin\", \"cdu\", \"csu\", \"gruene\", \"grüne\", \"fdp\", \"spd\", \"afd\", \"npd\"]\n",
        "survey_data = survey_data[~survey_data.stack().str.contains('|'.join(filter_words)).any(level=0)]\n",
        "\n",
        "data = list(survey_data['query'])"
      ]
    },
    {
      "cell_type": "code",
      "execution_count": 11,
      "metadata": {
        "colab": {
          "base_uri": "https://localhost:8080/"
        },
        "id": "4aGnHLIlPrhc",
        "outputId": "57bb40b7-53eb-493e-88b3-0873f653664c"
      },
      "outputs": [
        {
          "data": {
            "text/plain": [
              "['wahlomat über goole.de',\n",
              " 'partei sicherheit',\n",
              " 'die linke',\n",
              " 'wahlinhalte',\n",
              " 'wahl-o-mat + deinwal',\n",
              " 'wahlprogramme',\n",
              " 'parteiprogramm',\n",
              " 'informationen zu kandidaten,',\n",
              " 'laptop',\n",
              " 'klimawandel']"
            ]
          },
          "execution_count": 11,
          "metadata": {},
          "output_type": "execute_result"
        }
      ],
      "source": [
        "data[0:10] # the first samples from the data"
      ]
    },
    {
      "cell_type": "markdown",
      "metadata": {
        "id": "8TePddQ6oXQ0"
      },
      "source": [
        "# Step 2: Load the RoBERTa model and generate embedding vectors\n"
      ]
    },
    {
      "cell_type": "code",
      "execution_count": 12,
      "metadata": {
        "colab": {
          "base_uri": "https://localhost:8080/",
          "height": 67,
          "referenced_widgets": [
            "4b93d0aa35a547b48c6911eed2e52a8f",
            "c91d8543f8d547ecbfadb49451ba05b1",
            "ccfa7898863440fe8242de935130dfd4",
            "aea7d413899b4bf3abf8d0047feebccd",
            "f6fd0c796bd04384a74b565a0f40f9cd",
            "54a8f69a096942aca5367aefd8b25429",
            "0ff2ee166ff7413cb408144262ba0c00",
            "aa64f0c3e90f4b90b4a37fbb30e3305a",
            "1cd33884877e45eaa28c866b280e54d9",
            "dd299daaa64c437380fe887acb5b85ea",
            "b4d2c4d4dce54c22a076ca217dda85aa"
          ]
        },
        "id": "NaEaqDR8mIZH",
        "outputId": "db9e502d-b8f8-4908-ab3b-26f723fda241"
      },
      "outputs": [
        {
          "name": "stderr",
          "output_type": "stream",
          "text": [
            "WARNING:sentence_transformers.SentenceTransformer:No sentence-transformers model found with name /root/.cache/torch/sentence_transformers/T-Systems-onsite_german-roberta-sentence-transformer-v2. Creating a new one with MEAN pooling.\n"
          ]
        },
        {
          "data": {
            "application/vnd.jupyter.widget-view+json": {
              "model_id": "4b93d0aa35a547b48c6911eed2e52a8f",
              "version_major": 2,
              "version_minor": 0
            },
            "text/plain": [
              "Batches:   0%|          | 0/55 [00:00<?, ?it/s]"
            ]
          },
          "metadata": {},
          "output_type": "display_data"
        }
      ],
      "source": [
        "model = SentenceTransformer(\"T-Systems-onsite/german-roberta-sentence-transformer-v2\") # the model used, this can be switched with other suitable models found on huggingface.com\n",
        "embeddings = model.encode(data, show_progress_bar=True)"
      ]
    },
    {
      "cell_type": "markdown",
      "metadata": {
        "id": "Y5NvT0mxpx5Q"
      },
      "source": [
        "# Step 3: Perform k-means clustering on embedding vectors\n"
      ]
    },
    {
      "cell_type": "code",
      "execution_count": 15,
      "metadata": {
        "colab": {
          "base_uri": "https://localhost:8080/",
          "height": 110
        },
        "id": "oIoT58sZp9J4",
        "outputId": "ca4c03d2-00f0-4bc8-c061-172b121b512a"
      },
      "outputs": [
        {
          "name": "stderr",
          "output_type": "stream",
          "text": [
            "/usr/local/lib/python3.10/dist-packages/sklearn/cluster/_kmeans.py:870: FutureWarning: The default value of `n_init` will change from 10 to 'auto' in 1.4. Set the value of `n_init` explicitly to suppress the warning\n",
            "  warnings.warn(\n"
          ]
        },
        {
          "data": {
            "text/html": [
              "<style>#sk-container-id-1 {color: black;background-color: white;}#sk-container-id-1 pre{padding: 0;}#sk-container-id-1 div.sk-toggleable {background-color: white;}#sk-container-id-1 label.sk-toggleable__label {cursor: pointer;display: block;width: 100%;margin-bottom: 0;padding: 0.3em;box-sizing: border-box;text-align: center;}#sk-container-id-1 label.sk-toggleable__label-arrow:before {content: \"▸\";float: left;margin-right: 0.25em;color: #696969;}#sk-container-id-1 label.sk-toggleable__label-arrow:hover:before {color: black;}#sk-container-id-1 div.sk-estimator:hover label.sk-toggleable__label-arrow:before {color: black;}#sk-container-id-1 div.sk-toggleable__content {max-height: 0;max-width: 0;overflow: hidden;text-align: left;background-color: #f0f8ff;}#sk-container-id-1 div.sk-toggleable__content pre {margin: 0.2em;color: black;border-radius: 0.25em;background-color: #f0f8ff;}#sk-container-id-1 input.sk-toggleable__control:checked~div.sk-toggleable__content {max-height: 200px;max-width: 100%;overflow: auto;}#sk-container-id-1 input.sk-toggleable__control:checked~label.sk-toggleable__label-arrow:before {content: \"▾\";}#sk-container-id-1 div.sk-estimator input.sk-toggleable__control:checked~label.sk-toggleable__label {background-color: #d4ebff;}#sk-container-id-1 div.sk-label input.sk-toggleable__control:checked~label.sk-toggleable__label {background-color: #d4ebff;}#sk-container-id-1 input.sk-hidden--visually {border: 0;clip: rect(1px 1px 1px 1px);clip: rect(1px, 1px, 1px, 1px);height: 1px;margin: -1px;overflow: hidden;padding: 0;position: absolute;width: 1px;}#sk-container-id-1 div.sk-estimator {font-family: monospace;background-color: #f0f8ff;border: 1px dotted black;border-radius: 0.25em;box-sizing: border-box;margin-bottom: 0.5em;}#sk-container-id-1 div.sk-estimator:hover {background-color: #d4ebff;}#sk-container-id-1 div.sk-parallel-item::after {content: \"\";width: 100%;border-bottom: 1px solid gray;flex-grow: 1;}#sk-container-id-1 div.sk-label:hover label.sk-toggleable__label {background-color: #d4ebff;}#sk-container-id-1 div.sk-serial::before {content: \"\";position: absolute;border-left: 1px solid gray;box-sizing: border-box;top: 0;bottom: 0;left: 50%;z-index: 0;}#sk-container-id-1 div.sk-serial {display: flex;flex-direction: column;align-items: center;background-color: white;padding-right: 0.2em;padding-left: 0.2em;position: relative;}#sk-container-id-1 div.sk-item {position: relative;z-index: 1;}#sk-container-id-1 div.sk-parallel {display: flex;align-items: stretch;justify-content: center;background-color: white;position: relative;}#sk-container-id-1 div.sk-item::before, #sk-container-id-1 div.sk-parallel-item::before {content: \"\";position: absolute;border-left: 1px solid gray;box-sizing: border-box;top: 0;bottom: 0;left: 50%;z-index: -1;}#sk-container-id-1 div.sk-parallel-item {display: flex;flex-direction: column;z-index: 1;position: relative;background-color: white;}#sk-container-id-1 div.sk-parallel-item:first-child::after {align-self: flex-end;width: 50%;}#sk-container-id-1 div.sk-parallel-item:last-child::after {align-self: flex-start;width: 50%;}#sk-container-id-1 div.sk-parallel-item:only-child::after {width: 0;}#sk-container-id-1 div.sk-dashed-wrapped {border: 1px dashed gray;margin: 0 0.4em 0.5em 0.4em;box-sizing: border-box;padding-bottom: 0.4em;background-color: white;}#sk-container-id-1 div.sk-label label {font-family: monospace;font-weight: bold;display: inline-block;line-height: 1.2em;}#sk-container-id-1 div.sk-label-container {text-align: center;}#sk-container-id-1 div.sk-container {/* jupyter's `normalize.less` sets `[hidden] { display: none; }` but bootstrap.min.css set `[hidden] { display: none !important; }` so we also need the `!important` here to be able to override the default hidden behavior on the sphinx rendered scikit-learn.org. See: https://github.com/scikit-learn/scikit-learn/issues/21755 */display: inline-block !important;position: relative;}#sk-container-id-1 div.sk-text-repr-fallback {display: none;}</style><div id=\"sk-container-id-1\" class=\"sk-top-container\"><div class=\"sk-text-repr-fallback\"><pre>KMeans(n_clusters=20)</pre><b>In a Jupyter environment, please rerun this cell to show the HTML representation or trust the notebook. <br />On GitHub, the HTML representation is unable to render, please try loading this page with nbviewer.org.</b></div><div class=\"sk-container\" hidden><div class=\"sk-item\"><div class=\"sk-estimator sk-toggleable\"><input class=\"sk-toggleable__control sk-hidden--visually\" id=\"sk-estimator-id-1\" type=\"checkbox\" checked><label for=\"sk-estimator-id-1\" class=\"sk-toggleable__label sk-toggleable__label-arrow\">KMeans</label><div class=\"sk-toggleable__content\"><pre>KMeans(n_clusters=20)</pre></div></div></div></div></div>"
            ],
            "text/plain": [
              "KMeans(n_clusters=20)"
            ]
          },
          "execution_count": 15,
          "metadata": {},
          "output_type": "execute_result"
        }
      ],
      "source": [
        "# Perform kmeans clustering\n",
        "num_clusters = 20\n",
        "clustering_model = KMeans(n_clusters=num_clusters)\n",
        "clustering_model.fit(embeddings)"
      ]
    },
    {
      "cell_type": "markdown",
      "metadata": {
        "id": "VpO1Hj73qg1h"
      },
      "source": [
        "# Step 4: Plot results via interactive app"
      ]
    },
    {
      "cell_type": "code",
      "execution_count": 21,
      "metadata": {
        "colab": {
          "base_uri": "https://localhost:8080/",
          "height": 1000
        },
        "id": "DTAjvxHFTdti",
        "outputId": "0a3145cb-9a78-4b84-b7eb-76356ee92176"
      },
      "outputs": [
        {
          "data": {
            "application/javascript": "(function(root) {\n  function now() {\n    return new Date();\n  }\n\n  const force = true;\n\n  if (typeof root._bokeh_onload_callbacks === \"undefined\" || force === true) {\n    root._bokeh_onload_callbacks = [];\n    root._bokeh_is_loading = undefined;\n  }\n\nconst JS_MIME_TYPE = 'application/javascript';\n  const HTML_MIME_TYPE = 'text/html';\n  const EXEC_MIME_TYPE = 'application/vnd.bokehjs_exec.v0+json';\n  const CLASS_NAME = 'output_bokeh rendered_html';\n\n  /**\n   * Render data to the DOM node\n   */\n  function render(props, node) {\n    const script = document.createElement(\"script\");\n    node.appendChild(script);\n  }\n\n  /**\n   * Handle when an output is cleared or removed\n   */\n  function handleClearOutput(event, handle) {\n    const cell = handle.cell;\n\n    const id = cell.output_area._bokeh_element_id;\n    const server_id = cell.output_area._bokeh_server_id;\n    // Clean up Bokeh references\n    if (id != null && id in Bokeh.index) {\n      Bokeh.index[id].model.document.clear();\n      delete Bokeh.index[id];\n    }\n\n    if (server_id !== undefined) {\n      // Clean up Bokeh references\n      const cmd_clean = \"from bokeh.io.state import curstate; print(curstate().uuid_to_server['\" + server_id + \"'].get_sessions()[0].document.roots[0]._id)\";\n      cell.notebook.kernel.execute(cmd_clean, {\n        iopub: {\n          output: function(msg) {\n            const id = msg.content.text.trim();\n            if (id in Bokeh.index) {\n              Bokeh.index[id].model.document.clear();\n              delete Bokeh.index[id];\n            }\n          }\n        }\n      });\n      // Destroy server and session\n      const cmd_destroy = \"import bokeh.io.notebook as ion; ion.destroy_server('\" + server_id + \"')\";\n      cell.notebook.kernel.execute(cmd_destroy);\n    }\n  }\n\n  /**\n   * Handle when a new output is added\n   */\n  function handleAddOutput(event, handle) {\n    const output_area = handle.output_area;\n    const output = handle.output;\n\n    // limit handleAddOutput to display_data with EXEC_MIME_TYPE content only\n    if ((output.output_type != \"display_data\") || (!Object.prototype.hasOwnProperty.call(output.data, EXEC_MIME_TYPE))) {\n      return\n    }\n\n    const toinsert = output_area.element.find(\".\" + CLASS_NAME.split(' ')[0]);\n\n    if (output.metadata[EXEC_MIME_TYPE][\"id\"] !== undefined) {\n      toinsert[toinsert.length - 1].firstChild.textContent = output.data[JS_MIME_TYPE];\n      // store reference to embed id on output_area\n      output_area._bokeh_element_id = output.metadata[EXEC_MIME_TYPE][\"id\"];\n    }\n    if (output.metadata[EXEC_MIME_TYPE][\"server_id\"] !== undefined) {\n      const bk_div = document.createElement(\"div\");\n      bk_div.innerHTML = output.data[HTML_MIME_TYPE];\n      const script_attrs = bk_div.children[0].attributes;\n      for (let i = 0; i < script_attrs.length; i++) {\n        toinsert[toinsert.length - 1].firstChild.setAttribute(script_attrs[i].name, script_attrs[i].value);\n        toinsert[toinsert.length - 1].firstChild.textContent = bk_div.children[0].textContent\n      }\n      // store reference to server id on output_area\n      output_area._bokeh_server_id = output.metadata[EXEC_MIME_TYPE][\"server_id\"];\n    }\n  }\n\n  function register_renderer(events, OutputArea) {\n\n    function append_mime(data, metadata, element) {\n      // create a DOM node to render to\n      const toinsert = this.create_output_subarea(\n        metadata,\n        CLASS_NAME,\n        EXEC_MIME_TYPE\n      );\n      this.keyboard_manager.register_events(toinsert);\n      // Render to node\n      const props = {data: data, metadata: metadata[EXEC_MIME_TYPE]};\n      render(props, toinsert[toinsert.length - 1]);\n      element.append(toinsert);\n      return toinsert\n    }\n\n    /* Handle when an output is cleared or removed */\n    events.on('clear_output.CodeCell', handleClearOutput);\n    events.on('delete.Cell', handleClearOutput);\n\n    /* Handle when a new output is added */\n    events.on('output_added.OutputArea', handleAddOutput);\n\n    /**\n     * Register the mime type and append_mime function with output_area\n     */\n    OutputArea.prototype.register_mime_type(EXEC_MIME_TYPE, append_mime, {\n      /* Is output safe? */\n      safe: true,\n      /* Index of renderer in `output_area.display_order` */\n      index: 0\n    });\n  }\n\n  // register the mime type if in Jupyter Notebook environment and previously unregistered\n  if (root.Jupyter !== undefined) {\n    const events = require('base/js/events');\n    const OutputArea = require('notebook/js/outputarea').OutputArea;\n\n    if (OutputArea.prototype.mime_types().indexOf(EXEC_MIME_TYPE) == -1) {\n      register_renderer(events, OutputArea);\n    }\n  }\n  if (typeof (root._bokeh_timeout) === \"undefined\" || force === true) {\n    root._bokeh_timeout = Date.now() + 5000;\n    root._bokeh_failed_load = false;\n  }\n\n  const NB_LOAD_WARNING = {'data': {'text/html':\n     \"<div style='background-color: #fdd'>\\n\"+\n     \"<p>\\n\"+\n     \"BokehJS does not appear to have successfully loaded. If loading BokehJS from CDN, this \\n\"+\n     \"may be due to a slow or bad network connection. Possible fixes:\\n\"+\n     \"</p>\\n\"+\n     \"<ul>\\n\"+\n     \"<li>re-rerun `output_notebook()` to attempt to load from CDN again, or</li>\\n\"+\n     \"<li>use INLINE resources instead, as so:</li>\\n\"+\n     \"</ul>\\n\"+\n     \"<code>\\n\"+\n     \"from bokeh.resources import INLINE\\n\"+\n     \"output_notebook(resources=INLINE)\\n\"+\n     \"</code>\\n\"+\n     \"</div>\"}};\n\n  function display_loaded() {\n    const el = document.getElementById(null);\n    if (el != null) {\n      el.textContent = \"BokehJS is loading...\";\n    }\n    if (root.Bokeh !== undefined) {\n      if (el != null) {\n        el.textContent = \"BokehJS \" + root.Bokeh.version + \" successfully loaded.\";\n      }\n    } else if (Date.now() < root._bokeh_timeout) {\n      setTimeout(display_loaded, 100)\n    }\n  }\n\n  function run_callbacks() {\n    try {\n      root._bokeh_onload_callbacks.forEach(function(callback) {\n        if (callback != null)\n          callback();\n      });\n    } finally {\n      delete root._bokeh_onload_callbacks\n    }\n    console.debug(\"Bokeh: all callbacks have finished\");\n  }\n\n  function load_libs(css_urls, js_urls, callback) {\n    if (css_urls == null) css_urls = [];\n    if (js_urls == null) js_urls = [];\n\n    root._bokeh_onload_callbacks.push(callback);\n    if (root._bokeh_is_loading > 0) {\n      console.debug(\"Bokeh: BokehJS is being loaded, scheduling callback at\", now());\n      return null;\n    }\n    if (js_urls == null || js_urls.length === 0) {\n      run_callbacks();\n      return null;\n    }\n    console.debug(\"Bokeh: BokehJS not loaded, scheduling load and callback at\", now());\n    root._bokeh_is_loading = css_urls.length + js_urls.length;\n\n    function on_load() {\n      root._bokeh_is_loading--;\n      if (root._bokeh_is_loading === 0) {\n        console.debug(\"Bokeh: all BokehJS libraries/stylesheets loaded\");\n        run_callbacks()\n      }\n    }\n\n    function on_error(url) {\n      console.error(\"failed to load \" + url);\n    }\n\n    for (let i = 0; i < css_urls.length; i++) {\n      const url = css_urls[i];\n      const element = document.createElement(\"link\");\n      element.onload = on_load;\n      element.onerror = on_error.bind(null, url);\n      element.rel = \"stylesheet\";\n      element.type = \"text/css\";\n      element.href = url;\n      console.debug(\"Bokeh: injecting link tag for BokehJS stylesheet: \", url);\n      document.body.appendChild(element);\n    }\n\n    for (let i = 0; i < js_urls.length; i++) {\n      const url = js_urls[i];\n      const element = document.createElement('script');\n      element.onload = on_load;\n      element.onerror = on_error.bind(null, url);\n      element.async = false;\n      element.src = url;\n      console.debug(\"Bokeh: injecting script tag for BokehJS library: \", url);\n      document.head.appendChild(element);\n    }\n  };\n\n  function inject_raw_css(css) {\n    const element = document.createElement(\"style\");\n    element.appendChild(document.createTextNode(css));\n    document.body.appendChild(element);\n  }\n\n  const js_urls = [\"https://cdn.bokeh.org/bokeh/release/bokeh-2.4.3.min.js\", \"https://cdn.bokeh.org/bokeh/release/bokeh-gl-2.4.3.min.js\", \"https://cdn.bokeh.org/bokeh/release/bokeh-widgets-2.4.3.min.js\", \"https://cdn.bokeh.org/bokeh/release/bokeh-tables-2.4.3.min.js\", \"https://cdn.bokeh.org/bokeh/release/bokeh-mathjax-2.4.3.min.js\"];\n  const css_urls = [];\n\n  const inline_js = [    function(Bokeh) {\n      Bokeh.set_log_level(\"info\");\n    },\nfunction(Bokeh) {\n    }\n  ];\n\n  function run_inline_js() {\n    if (root.Bokeh !== undefined || force === true) {\n          for (let i = 0; i < inline_js.length; i++) {\n      inline_js[i].call(root, root.Bokeh);\n    }\n} else if (Date.now() < root._bokeh_timeout) {\n      setTimeout(run_inline_js, 100);\n    } else if (!root._bokeh_failed_load) {\n      console.log(\"Bokeh: BokehJS failed to load within specified timeout.\");\n      root._bokeh_failed_load = true;\n    } else if (force !== true) {\n      const cell = $(document.getElementById(null)).parents('.cell').data().cell;\n      cell.output_area.append_execute_result(NB_LOAD_WARNING)\n    }\n  }\n\n  if (root._bokeh_is_loading === 0) {\n    console.debug(\"Bokeh: BokehJS loaded, going straight to plotting\");\n    run_inline_js();\n  } else {\n    load_libs(css_urls, js_urls, function() {\n      console.debug(\"Bokeh: BokehJS plotting callback run at\", now());\n      run_inline_js();\n    });\n  }\n}(window));",
            "application/vnd.bokehjs_load.v0+json": ""
          },
          "metadata": {},
          "output_type": "display_data"
        },
        {
          "data": {
            "text/html": [
              "\n",
              "  <div class=\"bk-root\" id=\"128f8e79-0c5a-4a96-a783-ce3bd8590f62\" data-root-id=\"1178\"></div>\n"
            ]
          },
          "metadata": {},
          "output_type": "display_data"
        },
        {
          "data": {
            "application/javascript": "(function(root) {\n  function embed_document(root) {\n  const docs_json = {\"a7679fcc-234f-4f96-adb2-26b15281c3c3\":{\"defs\":[],\"roots\":{\"references\":[{\"attributes\":{\"center\":[{\"id\":\"1213\"}],\"height\":1000,\"min_border\":1,\"renderers\":[{\"id\":\"1207\"}],\"title\":{\"id\":\"1179\"},\"toolbar\":{\"id\":\"1195\"},\"width\":1500,\"x_range\":{\"id\":\"1181\"},\"x_scale\":{\"id\":\"1185\"},\"y_range\":{\"id\":\"1183\"},\"y_scale\":{\"id\":\"1187\"}},\"id\":\"1178\",\"subtype\":\"Figure\",\"type\":\"Plot\"},{\"attributes\":{},\"id\":\"1192\",\"type\":\"ResetTool\"},{\"attributes\":{\"bottom_units\":\"screen\",\"coordinates\":null,\"fill_alpha\":0.5,\"fill_color\":\"lightgrey\",\"group\":null,\"left_units\":\"screen\",\"level\":\"overlay\",\"line_alpha\":1.0,\"line_color\":\"black\",\"line_dash\":[4,4],\"line_width\":2,\"right_units\":\"screen\",\"syncable\":false,\"top_units\":\"screen\"},\"id\":\"1194\",\"type\":\"BoxAnnotation\"},{\"attributes\":{\"fill_alpha\":{\"value\":0.1},\"fill_color\":{\"field\":\"labels\",\"transform\":{\"id\":\"1201\"}},\"hatch_alpha\":{\"value\":0.1},\"hatch_color\":{\"field\":\"labels\",\"transform\":{\"id\":\"1201\"}},\"line_alpha\":{\"value\":0.1},\"line_color\":{\"field\":\"labels\",\"transform\":{\"id\":\"1201\"}},\"x\":{\"field\":\"x\"},\"y\":{\"field\":\"y\"}},\"id\":\"1205\",\"type\":\"Scatter\"},{\"attributes\":{},\"id\":\"1210\",\"type\":\"UnionRenderers\"},{\"attributes\":{\"fill_alpha\":{\"value\":0.8},\"fill_color\":{\"field\":\"labels\",\"transform\":{\"id\":\"1201\"}},\"hatch_alpha\":{\"value\":0.8},\"hatch_color\":{\"field\":\"labels\",\"transform\":{\"id\":\"1201\"}},\"line_alpha\":{\"value\":0.8},\"line_color\":{\"field\":\"labels\",\"transform\":{\"id\":\"1201\"}},\"x\":{\"field\":\"x\"},\"y\":{\"field\":\"y\"}},\"id\":\"1204\",\"type\":\"Scatter\"},{\"attributes\":{\"source\":{\"id\":\"1202\"}},\"id\":\"1208\",\"type\":\"CDSView\"},{\"attributes\":{},\"id\":\"1193\",\"type\":\"SaveTool\"},{\"attributes\":{\"data\":{\"index\":[0,1,2,3,4,5,6,7,8,9,10,11,12,13,14,15,16,17,18,19,20,21,22,23,24,25,26,27,28,29,30,31,32,33,34,35,36,37,38,39,40,41,42,43,44,45,46,47,48,49,50,51,52,53,54,55,56,57,58,59,60,61,62,63,64,65,66,67,68,69,70,71,72,73,74,75,76,77,78,79,80,81,82,83,84,85,86,87,88,89,90,91,92,93,94,95,96,97,98,99,100,101,102,103,104,105,106,107,108,109,110,111,112,113,114,115,116,117,118,119,120,121,122,123,124,125,126,127,128,129,130,131,132,133,134,135,136,137,138,139,140,141,142,143,144,145,146,147,148,149,150,151,152,153,154,155,156,157,158,159,160,161,162,163,164,165,166,167,168,169,170,171,172,173,174,175,176,177,178,179,180,181,182,183,184,185,186,187,188,189,190,191,192,193,194,195,196,197,198,199,200,201,202,203,204,205,206,207,208,209,210,211,212,213,214,215,216,217,218,219,220,221,222,223,224,225,226,227,228,229,230,231,232,233,234,235,236,237,238,239,240,241,242,243,244,245,246,247,248,249,250,251,252,253,254,255,256,257,258,259,260,261,262,263,264,265,266,267,268,269,270,271,272,273,274,275,276,277,278,279,280,281,282,283,284,285,286,287,288,289,290,291,292,293,294,295,296,297,298,299,300,301,302,303,304,305,306,307,308,309,310,311,312,313,314,315,316,317,318,319,320,321,322,323,324,325,326,327,328,329,330,331,332,333,334,335,336,337,338,339,340,341,342,343,344,345,346,347,348,349,350,351,352,353,354,355,356,357,358,359,360,361,362,363,364,365,366,367,368,369,370,371,372,373,374,375,376,377,378,379,380,381,382,383,384,385,386,387,388,389,390,391,392,393,394,395,396,397,398,399,400,401,402,403,404,405,406,407,408,409,410,411,412,413,414,415,416,417,418,419,420,421,422,423,424,425,426,427,428,429,430,431,432,433,434,435,436,437,438,439,440,441,442,443,444,445,446,447,448,449,450,451,452,453,454,455,456,457,458,459,460,461,462,463,464,465,466,467,468,469,470,471,472,473,474,475,476,477,478,479,480,481,482,483,484,485,486,487,488,489,490,491,492,493,494,495,496,497,498,499,500,501,502,503,504,505,506,507,508,509,510,511,512,513,514,515,516,517,518,519,520,521,522,523,524,525,526,527,528,529,530,531,532,533,534,535,536,537,538,539,540,541,542,543,544,545,546,547,548,549,550,551,552,553,554,555,556,557,558,559,560,561,562,563,564,565,566,567,568,569,570,571,572,573,574,575,576,577,578,579,580,581,582,583,584,585,586,587,588,589,590,591,592,593,594,595,596,597,598,599,600,601,602,603,604,605,606,607,608,609,610,611,612,613,614,615,616,617,618,619,620,621,622,623,624,625,626,627,628,629,630,631,632,633,634,635,636,637,638,639,640,641,642,643,644,645,646,647,648,649,650,651,652,653,654,655,656,657,658,659,660,661,662,663,664,665,666,667,668,669,670,671,672,673,674,675,676,677,678,679,680,681,682,683,684,685,686,687,688,689,690,691,692,693,694,695,696,697,698,699,700,701,702,703,704,705,706,707,708,709,710,711,712,713,714,715,716,717,718,719,720,721,722,723,724,725,726,727,728,729,730,731,732,733,734,735,736,737,738,739,740,741,742,743,744,745,746,747,748,749,750,751,752,753,754,755,756,757,758,759,760,761,762,763,764,765,766,767,768,769,770,771,772,773,774,775,776,777,778,779,780,781,782,783,784,785,786,787,788,789,790,791,792,793,794,795,796,797,798,799,800,801,802,803,804,805,806,807,808,809,810,811,812,813,814,815,816,817,818,819,820,821,822,823,824,825,826,827,828,829,830,831,832,833,834,835,836,837,838,839,840,841,842,843,844,845,846,847,848,849,850,851,852,853,854,855,856,857,858,859,860,861,862,863,864,865,866,867,868,869,870,871,872,873,874,875,876,877,878,879,880,881,882,883,884,885,886,887,888,889,890,891,892,893,894,895,896,897,898,899,900,901,902,903,904,905,906,907,908,909,910,911,912,913,914,915,916,917,918,919,920,921,922,923,924,925,926,927,928,929,930,931,932,933,934,935,936,937,938,939,940,941,942,943,944,945,946,947,948,949,950,951,952,953,954,955,956,957,958,959,960,961,962,963,964,965,966,967,968,969,970,971,972,973,974,975,976,977,978,979,980,981,982,983,984,985,986,987,988,989,990,991,992,993,994,995,996,997,998,999,1000,1001,1002,1003,1004,1005,1006,1007,1008,1009,1010,1011,1012,1013,1014,1015,1016,1017,1018,1019,1020,1021,1022,1023,1024,1025,1026,1027,1028,1029,1030,1031,1032,1033,1034,1035,1036,1037,1038,1039,1040,1041,1042,1043,1044,1045,1046,1047,1048,1049,1050,1051,1052,1053,1054,1055,1056,1057,1058,1059,1060,1061,1062,1063,1064,1065,1066,1067,1068,1069,1070,1071,1072,1073,1074,1075,1076,1077,1078,1079,1080,1081,1082,1083,1084,1085,1086,1087,1088,1089,1090,1091,1092,1093,1094,1095,1096,1097,1098,1099,1100,1101,1102,1103,1104,1105,1106,1107,1108,1109,1110,1111,1112,1113,1114,1115,1116,1117,1118,1119,1120,1121,1122,1123,1124,1125,1126,1127,1128,1129,1130,1131,1132,1133,1134,1135,1136,1137,1138,1139,1140,1141,1142,1143,1144,1145,1146,1147,1148,1149,1150,1151,1152,1153,1154,1155,1156,1157,1158,1159,1160,1161,1162,1163,1164,1165,1166,1167,1168,1169,1170,1171,1172,1173,1174,1175,1176,1177,1178,1179,1180,1181,1182,1183,1184,1185,1186,1187,1188,1189,1190,1191,1192,1193,1194,1195,1196,1197,1198,1199,1200,1201,1202,1203,1204,1205,1206,1207,1208,1209,1210,1211,1212,1213,1214,1215,1216,1217,1218,1219,1220,1221,1222,1223,1224,1225,1226,1227,1228,1229,1230,1231,1232,1233,1234,1235,1236,1237,1238,1239,1240,1241,1242,1243,1244,1245,1246,1247,1248,1249,1250,1251,1252,1253,1254,1255,1256,1257,1258,1259,1260,1261,1262,1263,1264,1265,1266,1267,1268,1269,1270,1271,1272,1273,1274,1275,1276,1277,1278,1279,1280,1281,1282,1283,1284,1285,1286,1287,1288,1289,1290,1291,1292,1293,1294,1295,1296,1297,1298,1299,1300,1301,1302,1303,1304,1305,1306,1307,1308,1309,1310,1311,1312,1313,1314,1315,1316,1317,1318,1319,1320,1321,1322,1323,1324,1325,1326,1327,1328,1329,1330,1331,1332,1333,1334,1335,1336,1337,1338,1339,1340,1341,1342,1343,1344,1345,1346,1347,1348,1349,1350,1351,1352,1353,1354,1355,1356,1357,1358,1359,1360,1361,1362,1363,1364,1365,1366,1367,1368,1369,1370,1371,1372,1373,1374,1375,1376,1377,1378,1379,1380,1381,1382,1383,1384,1385,1386,1387,1388,1389,1390,1391,1392,1393,1394,1395,1396,1397,1398,1399,1400,1401,1402,1403,1404,1405,1406,1407,1408,1409,1410,1411,1412,1413,1414,1415,1416,1417,1418,1419,1420,1421,1422,1423,1424,1425,1426,1427,1428,1429,1430,1431,1432,1433,1434,1435,1436,1437,1438,1439,1440,1441,1442,1443,1444,1445,1446,1447,1448,1449,1450,1451,1452,1453,1454,1455,1456,1457,1458,1459,1460,1461,1462,1463,1464,1465,1466,1467,1468,1469,1470,1471,1472,1473,1474,1475,1476,1477,1478,1479,1480,1481,1482,1483,1484,1485,1486,1487,1488,1489,1490,1491,1492,1493,1494,1495,1496,1497,1498,1499,1500,1501,1502,1503,1504,1505,1506,1507,1508,1509,1510,1511,1512,1513,1514,1515,1516,1517,1518,1519,1520,1521,1522,1523,1524,1525,1526,1527,1528,1529,1530,1531,1532,1533,1534,1535,1536,1537,1538,1539,1540,1541,1542,1543,1544,1545,1546,1547,1548,1549,1550,1551,1552,1553,1554,1555,1556,1557,1558,1559,1560,1561,1562,1563,1564,1565,1566,1567,1568,1569,1570,1571,1572,1573,1574,1575,1576,1577,1578,1579,1580,1581,1582,1583,1584,1585,1586,1587,1588,1589,1590,1591,1592,1593,1594,1595,1596,1597,1598,1599,1600,1601,1602,1603,1604,1605,1606,1607,1608,1609,1610,1611,1612,1613,1614,1615,1616,1617,1618,1619,1620,1621,1622,1623,1624,1625,1626,1627,1628,1629,1630,1631,1632,1633,1634,1635,1636,1637,1638,1639,1640,1641,1642,1643,1644,1645,1646,1647,1648,1649,1650,1651,1652,1653,1654,1655,1656,1657,1658,1659,1660,1661,1662,1663,1664,1665,1666,1667,1668,1669,1670,1671,1672,1673,1674,1675,1676,1677,1678,1679,1680,1681,1682,1683,1684,1685,1686,1687,1688,1689,1690,1691,1692,1693,1694,1695,1696,1697,1698,1699,1700,1701,1702,1703,1704,1705,1706,1707,1708,1709,1710,1711,1712,1713,1714,1715,1716,1717,1718,1719,1720,1721,1722,1723,1724,1725,1726,1727,1728,1729,1730,1731,1732,1733,1734,1735,1736,1737,1738,1739,1740,1741,1742,1743,1744,1745,1746,1747,1748,1749,1750],\"labels\":[\"10\",\"8\",\"10\",\"10\",\"7\",\"13\",\"15\",\"2\",\"10\",\"4\",\"16\",\"18\",\"13\",\"2\",\"2\",\"15\",\"10\",\"2\",\"18\",\"13\",\"18\",\"6\",\"1\",\"16\",\"13\",\"10\",\"2\",\"10\",\"1\",\"2\",\"1\",\"16\",\"10\",\"7\",\"1\",\"2\",\"9\",\"18\",\"18\",\"17\",\"6\",\"13\",\"13\",\"10\",\"4\",\"8\",\"13\",\"1\",\"1\",\"14\",\"14\",\"2\",\"1\",\"18\",\"18\",\"18\",\"13\",\"17\",\"1\",\"1\",\"2\",\"1\",\"4\",\"13\",\"7\",\"13\",\"1\",\"13\",\"13\",\"6\",\"1\",\"1\",\"1\",\"10\",\"2\",\"14\",\"15\",\"2\",\"18\",\"15\",\"3\",\"1\",\"11\",\"7\",\"10\",\"9\",\"8\",\"2\",\"13\",\"2\",\"9\",\"2\",\"1\",\"13\",\"1\",\"13\",\"7\",\"16\",\"2\",\"10\",\"18\",\"6\",\"18\",\"1\",\"0\",\"4\",\"2\",\"1\",\"1\",\"16\",\"9\",\"15\",\"1\",\"14\",\"19\",\"13\",\"16\",\"2\",\"16\",\"1\",\"1\",\"1\",\"16\",\"2\",\"2\",\"7\",\"13\",\"6\",\"4\",\"12\",\"2\",\"18\",\"0\",\"18\",\"2\",\"13\",\"2\",\"1\",\"7\",\"10\",\"5\",\"10\",\"2\",\"16\",\"1\",\"13\",\"15\",\"2\",\"2\",\"13\",\"18\",\"2\",\"5\",\"18\",\"6\",\"2\",\"15\",\"2\",\"8\",\"1\",\"10\",\"2\",\"2\",\"13\",\"2\",\"4\",\"13\",\"13\",\"10\",\"14\",\"1\",\"13\",\"18\",\"6\",\"1\",\"7\",\"15\",\"1\",\"11\",\"15\",\"7\",\"2\",\"1\",\"5\",\"18\",\"13\",\"13\",\"15\",\"13\",\"4\",\"18\",\"1\",\"4\",\"13\",\"17\",\"10\",\"19\",\"2\",\"1\",\"4\",\"0\",\"4\",\"15\",\"1\",\"13\",\"18\",\"13\",\"7\",\"15\",\"2\",\"18\",\"2\",\"13\",\"2\",\"6\",\"18\",\"1\",\"15\",\"2\",\"17\",\"2\",\"16\",\"17\",\"1\",\"15\",\"2\",\"2\",\"13\",\"1\",\"15\",\"2\",\"18\",\"4\",\"5\",\"4\",\"14\",\"10\",\"18\",\"15\",\"13\",\"15\",\"13\",\"13\",\"14\",\"16\",\"18\",\"7\",\"18\",\"1\",\"1\",\"18\",\"18\",\"2\",\"18\",\"4\",\"18\",\"2\",\"13\",\"15\",\"1\",\"1\",\"1\",\"16\",\"4\",\"8\",\"16\",\"13\",\"1\",\"2\",\"10\",\"15\",\"1\",\"13\",\"13\",\"15\",\"2\",\"1\",\"18\",\"7\",\"1\",\"18\",\"10\",\"13\",\"1\",\"13\",\"1\",\"10\",\"12\",\"10\",\"13\",\"1\",\"7\",\"2\",\"7\",\"18\",\"13\",\"18\",\"1\",\"16\",\"4\",\"12\",\"4\",\"17\",\"11\",\"13\",\"15\",\"16\",\"16\",\"14\",\"12\",\"16\",\"13\",\"1\",\"4\",\"3\",\"13\",\"13\",\"2\",\"17\",\"18\",\"14\",\"2\",\"1\",\"6\",\"13\",\"15\",\"7\",\"18\",\"1\",\"7\",\"1\",\"1\",\"6\",\"2\",\"6\",\"14\",\"2\",\"12\",\"18\",\"1\",\"1\",\"2\",\"13\",\"6\",\"10\",\"15\",\"2\",\"15\",\"7\",\"17\",\"2\",\"1\",\"10\",\"18\",\"15\",\"18\",\"7\",\"1\",\"4\",\"18\",\"10\",\"8\",\"1\",\"13\",\"18\",\"4\",\"12\",\"16\",\"15\",\"13\",\"17\",\"13\",\"1\",\"13\",\"18\",\"13\",\"16\",\"13\",\"7\",\"18\",\"16\",\"13\",\"1\",\"10\",\"2\",\"17\",\"17\",\"7\",\"1\",\"1\",\"1\",\"13\",\"1\",\"18\",\"2\",\"2\",\"16\",\"2\",\"7\",\"10\",\"1\",\"17\",\"18\",\"19\",\"18\",\"19\",\"1\",\"7\",\"15\",\"7\",\"1\",\"2\",\"12\",\"10\",\"18\",\"1\",\"7\",\"15\",\"1\",\"2\",\"1\",\"13\",\"7\",\"16\",\"2\",\"2\",\"16\",\"10\",\"1\",\"18\",\"15\",\"15\",\"1\",\"18\",\"2\",\"1\",\"1\",\"13\",\"2\",\"13\",\"2\",\"2\",\"13\",\"7\",\"2\",\"4\",\"7\",\"17\",\"2\",\"7\",\"13\",\"2\",\"16\",\"12\",\"16\",\"1\",\"18\",\"13\",\"1\",\"15\",\"2\",\"6\",\"18\",\"18\",\"1\",\"4\",\"19\",\"16\",\"16\",\"16\",\"2\",\"2\",\"1\",\"2\",\"10\",\"19\",\"13\",\"11\",\"14\",\"1\",\"7\",\"1\",\"15\",\"15\",\"13\",\"1\",\"2\",\"1\",\"10\",\"7\",\"13\",\"9\",\"2\",\"1\",\"11\",\"13\",\"13\",\"18\",\"1\",\"12\",\"14\",\"7\",\"16\",\"4\",\"6\",\"2\",\"2\",\"10\",\"10\",\"1\",\"13\",\"17\",\"16\",\"9\",\"17\",\"2\",\"1\",\"1\",\"7\",\"17\",\"8\",\"8\",\"18\",\"18\",\"2\",\"4\",\"13\",\"10\",\"15\",\"5\",\"13\",\"13\",\"4\",\"18\",\"7\",\"7\",\"1\",\"15\",\"1\",\"10\",\"19\",\"2\",\"18\",\"2\",\"1\",\"17\",\"2\",\"8\",\"4\",\"13\",\"10\",\"15\",\"6\",\"2\",\"2\",\"17\",\"4\",\"16\",\"2\",\"1\",\"18\",\"1\",\"2\",\"10\",\"18\",\"2\",\"15\",\"1\",\"1\",\"16\",\"1\",\"19\",\"1\",\"2\",\"18\",\"7\",\"1\",\"17\",\"1\",\"15\",\"2\",\"2\",\"4\",\"1\",\"2\",\"1\",\"10\",\"1\",\"13\",\"18\",\"1\",\"18\",\"1\",\"7\",\"16\",\"14\",\"16\",\"18\",\"2\",\"7\",\"1\",\"16\",\"4\",\"2\",\"13\",\"3\",\"11\",\"13\",\"18\",\"2\",\"18\",\"6\",\"8\",\"19\",\"9\",\"13\",\"1\",\"1\",\"10\",\"18\",\"16\",\"2\",\"1\",\"18\",\"1\",\"7\",\"6\",\"4\",\"18\",\"1\",\"13\",\"18\",\"16\",\"2\",\"7\",\"1\",\"13\",\"7\",\"1\",\"6\",\"2\",\"18\",\"2\",\"2\",\"14\",\"7\",\"1\",\"17\",\"16\",\"14\",\"7\",\"2\",\"15\",\"2\",\"2\",\"4\",\"10\",\"4\",\"16\",\"18\",\"9\",\"16\",\"1\",\"16\",\"2\",\"2\",\"18\",\"2\",\"1\",\"16\",\"14\",\"6\",\"18\",\"12\",\"18\",\"18\",\"7\",\"13\",\"10\",\"17\",\"15\",\"13\",\"12\",\"17\",\"2\",\"19\",\"17\",\"16\",\"15\",\"4\",\"10\",\"4\",\"15\",\"1\",\"6\",\"2\",\"10\",\"10\",\"1\",\"4\",\"7\",\"13\",\"18\",\"18\",\"18\",\"17\",\"10\",\"18\",\"19\",\"15\",\"1\",\"7\",\"18\",\"13\",\"17\",\"10\",\"6\",\"1\",\"13\",\"1\",\"18\",\"12\",\"18\",\"13\",\"10\",\"4\",\"19\",\"17\",\"13\",\"6\",\"1\",\"16\",\"2\",\"15\",\"2\",\"13\",\"2\",\"7\",\"18\",\"16\",\"14\",\"10\",\"2\",\"8\",\"8\",\"7\",\"10\",\"1\",\"18\",\"13\",\"15\",\"7\",\"1\",\"10\",\"6\",\"16\",\"7\",\"4\",\"1\",\"13\",\"18\",\"17\",\"7\",\"19\",\"13\",\"2\",\"7\",\"13\",\"12\",\"16\",\"2\",\"10\",\"1\",\"1\",\"10\",\"10\",\"13\",\"4\",\"8\",\"6\",\"18\",\"1\",\"11\",\"6\",\"10\",\"10\",\"1\",\"17\",\"15\",\"17\",\"18\",\"10\",\"2\",\"12\",\"18\",\"1\",\"10\",\"13\",\"7\",\"16\",\"7\",\"15\",\"18\",\"13\",\"18\",\"13\",\"16\",\"15\",\"2\",\"13\",\"15\",\"7\",\"18\",\"7\",\"9\",\"1\",\"7\",\"16\",\"18\",\"4\",\"9\",\"14\",\"1\",\"13\",\"2\",\"16\",\"18\",\"15\",\"2\",\"6\",\"2\",\"1\",\"16\",\"13\",\"13\",\"1\",\"17\",\"3\",\"1\",\"1\",\"2\",\"7\",\"7\",\"1\",\"13\",\"19\",\"1\",\"7\",\"16\",\"7\",\"11\",\"13\",\"10\",\"2\",\"17\",\"16\",\"14\",\"1\",\"2\",\"4\",\"15\",\"2\",\"6\",\"15\",\"10\",\"7\",\"13\",\"1\",\"10\",\"16\",\"2\",\"11\",\"5\",\"18\",\"13\",\"17\",\"13\",\"13\",\"1\",\"10\",\"14\",\"1\",\"14\",\"2\",\"13\",\"13\",\"16\",\"4\",\"13\",\"16\",\"16\",\"2\",\"15\",\"13\",\"16\",\"18\",\"1\",\"1\",\"17\",\"8\",\"10\",\"14\",\"2\",\"5\",\"5\",\"8\",\"16\",\"16\",\"18\",\"16\",\"19\",\"14\",\"10\",\"18\",\"16\",\"10\",\"0\",\"18\",\"5\",\"9\",\"10\",\"0\",\"18\",\"1\",\"8\",\"16\",\"15\",\"10\",\"18\",\"8\",\"9\",\"15\",\"13\",\"18\",\"18\",\"8\",\"10\",\"10\",\"5\",\"18\",\"1\",\"18\",\"9\",\"18\",\"16\",\"12\",\"9\",\"13\",\"18\",\"18\",\"18\",\"1\",\"4\",\"5\",\"8\",\"2\",\"8\",\"16\",\"6\",\"13\",\"10\",\"10\",\"10\",\"18\",\"18\",\"13\",\"9\",\"19\",\"15\",\"10\",\"9\",\"18\",\"10\",\"10\",\"15\",\"10\",\"18\",\"18\",\"18\",\"16\",\"8\",\"11\",\"18\",\"6\",\"10\",\"15\",\"13\",\"18\",\"16\",\"0\",\"10\",\"9\",\"18\",\"10\",\"10\",\"11\",\"11\",\"18\",\"15\",\"2\",\"10\",\"18\",\"2\",\"10\",\"2\",\"11\",\"10\",\"18\",\"18\",\"19\",\"18\",\"10\",\"2\",\"2\",\"15\",\"10\",\"10\",\"8\",\"18\",\"10\",\"10\",\"18\",\"14\",\"10\",\"18\",\"18\",\"15\",\"10\",\"10\",\"16\",\"13\",\"13\",\"18\",\"13\",\"7\",\"4\",\"10\",\"8\",\"10\",\"2\",\"9\",\"16\",\"16\",\"18\",\"16\",\"18\",\"10\",\"15\",\"6\",\"16\",\"18\",\"16\",\"10\",\"10\",\"2\",\"14\",\"16\",\"6\",\"13\",\"18\",\"18\",\"18\",\"8\",\"18\",\"15\",\"11\",\"5\",\"15\",\"19\",\"18\",\"10\",\"13\",\"7\",\"11\",\"9\",\"10\",\"10\",\"9\",\"7\",\"19\",\"15\",\"15\",\"8\",\"2\",\"6\",\"18\",\"14\",\"10\",\"16\",\"11\",\"8\",\"15\",\"15\",\"13\",\"8\",\"9\",\"18\",\"16\",\"7\",\"16\",\"10\",\"5\",\"14\",\"10\",\"1\",\"13\",\"18\",\"5\",\"0\",\"10\",\"16\",\"6\",\"18\",\"3\",\"10\",\"18\",\"10\",\"11\",\"8\",\"1\",\"8\",\"13\",\"11\",\"15\",\"18\",\"18\",\"3\",\"11\",\"18\",\"2\",\"15\",\"19\",\"4\",\"18\",\"10\",\"11\",\"18\",\"10\",\"18\",\"8\",\"18\",\"16\",\"9\",\"19\",\"9\",\"10\",\"18\",\"3\",\"10\",\"18\",\"10\",\"18\",\"10\",\"8\",\"1\",\"10\",\"13\",\"2\",\"15\",\"19\",\"16\",\"18\",\"10\",\"16\",\"18\",\"1\",\"10\",\"10\",\"3\",\"18\",\"19\",\"5\",\"16\",\"14\",\"3\",\"16\",\"6\",\"1\",\"6\",\"10\",\"10\",\"8\",\"3\",\"18\",\"18\",\"1\",\"10\",\"1\",\"18\",\"16\",\"7\",\"1\",\"13\",\"9\",\"1\",\"18\",\"18\",\"13\",\"18\",\"15\",\"3\",\"4\",\"19\",\"4\",\"18\",\"13\",\"8\",\"15\",\"18\",\"16\",\"10\",\"16\",\"9\",\"18\",\"10\",\"7\",\"1\",\"10\",\"13\",\"18\",\"2\",\"10\",\"18\",\"7\",\"18\",\"17\",\"16\",\"5\",\"5\",\"10\",\"11\",\"8\",\"18\",\"19\",\"18\",\"5\",\"18\",\"9\",\"14\",\"16\",\"10\",\"10\",\"13\",\"18\",\"15\",\"15\",\"14\",\"18\",\"18\",\"8\",\"10\",\"18\",\"6\",\"10\",\"10\",\"18\",\"16\",\"11\",\"12\",\"10\",\"11\",\"10\",\"13\",\"10\",\"15\",\"18\",\"15\",\"14\",\"10\",\"11\",\"1\",\"15\",\"11\",\"11\",\"18\",\"1\",\"18\",\"12\",\"9\",\"16\",\"10\",\"18\",\"18\",\"13\",\"9\",\"15\",\"18\",\"10\",\"18\",\"18\",\"15\",\"5\",\"10\",\"14\",\"19\",\"11\",\"14\",\"14\",\"9\",\"18\",\"10\",\"6\",\"15\",\"18\",\"10\",\"15\",\"10\",\"10\",\"19\",\"1\",\"13\",\"13\",\"2\",\"2\",\"8\",\"1\",\"16\",\"6\",\"15\",\"18\",\"2\",\"9\",\"18\",\"19\",\"8\",\"16\",\"13\",\"18\",\"13\",\"18\",\"18\",\"10\",\"6\",\"15\",\"18\",\"17\",\"11\",\"19\",\"16\",\"10\",\"19\",\"0\",\"14\",\"13\",\"19\",\"11\",\"19\",\"11\",\"18\",\"9\",\"18\",\"5\",\"10\",\"18\",\"9\",\"10\",\"10\",\"17\",\"0\",\"18\",\"1\",\"8\",\"16\",\"13\",\"11\",\"5\",\"9\",\"10\",\"2\",\"18\",\"18\",\"10\",\"10\",\"10\",\"18\",\"18\",\"16\",\"13\",\"8\",\"18\",\"11\",\"8\",\"14\",\"0\",\"19\",\"13\",\"10\",\"18\",\"10\",\"18\",\"10\",\"8\",\"10\",\"13\",\"15\",\"16\",\"11\",\"18\",\"6\",\"13\",\"19\",\"18\",\"8\",\"14\",\"10\",\"18\",\"13\",\"0\",\"10\",\"9\",\"10\",\"18\",\"10\",\"18\",\"10\",\"13\",\"14\",\"9\",\"3\",\"14\",\"18\",\"13\",\"18\",\"19\",\"10\",\"18\",\"18\",\"0\",\"19\",\"10\",\"3\",\"10\",\"10\",\"11\",\"19\",\"16\",\"19\",\"18\",\"2\",\"18\",\"6\",\"8\",\"16\",\"16\",\"18\",\"5\",\"10\",\"2\",\"3\",\"18\",\"18\",\"18\",\"8\",\"19\",\"0\",\"2\",\"13\",\"10\",\"14\",\"19\",\"18\",\"16\",\"10\",\"18\",\"9\",\"10\",\"9\",\"15\",\"10\",\"2\",\"16\",\"13\",\"1\",\"16\",\"15\",\"13\",\"7\",\"18\",\"6\",\"3\",\"11\",\"10\",\"8\",\"16\",\"16\",\"16\",\"10\",\"18\",\"10\",\"10\",\"10\",\"6\",\"18\",\"18\",\"15\",\"18\",\"19\",\"18\",\"0\",\"19\",\"5\",\"1\",\"10\",\"15\",\"19\",\"8\",\"19\",\"19\",\"18\",\"0\",\"16\",\"7\",\"10\",\"10\",\"14\",\"7\",\"8\",\"15\",\"15\",\"10\",\"18\",\"11\",\"6\",\"16\",\"18\",\"9\",\"10\",\"15\",\"2\",\"3\",\"19\",\"10\",\"1\",\"7\",\"18\",\"10\",\"18\",\"13\",\"18\",\"0\",\"18\",\"10\",\"18\",\"18\",\"16\",\"3\",\"10\",\"15\",\"19\",\"0\",\"8\",\"1\",\"18\",\"13\",\"11\",\"15\",\"10\",\"18\",\"10\",\"19\",\"7\",\"14\",\"15\",\"16\",\"18\",\"18\",\"8\",\"18\",\"10\",\"11\",\"10\",\"16\",\"18\",\"10\",\"3\",\"18\",\"10\",\"18\",\"2\",\"8\",\"18\",\"1\",\"13\",\"15\",\"18\",\"18\",\"1\",\"10\",\"18\",\"6\",\"1\",\"8\",\"2\",\"14\",\"9\",\"19\",\"8\",\"10\",\"16\",\"1\",\"18\",\"18\",\"10\",\"9\",\"1\",\"3\",\"1\",\"3\",\"7\",\"1\",\"13\",\"11\",\"1\",\"18\",\"18\",\"4\",\"10\",\"19\",\"2\",\"10\",\"15\",\"18\",\"10\",\"18\",\"10\",\"10\",\"9\",\"7\",\"1\",\"15\",\"18\",\"8\",\"2\",\"18\",\"2\",\"18\",\"7\",\"8\",\"17\",\"4\",\"10\",\"19\",\"5\",\"10\",\"1\",\"8\",\"18\",\"11\",\"18\",\"16\",\"5\",\"18\",\"8\",\"18\",\"10\",\"13\",\"10\",\"13\",\"13\",\"16\",\"16\",\"15\",\"3\",\"14\",\"6\",\"8\",\"16\",\"18\",\"18\",\"18\",\"18\",\"15\",\"12\",\"9\",\"10\",\"13\",\"15\",\"12\",\"3\",\"0\",\"14\",\"10\",\"13\",\"8\",\"15\",\"6\",\"7\",\"1\",\"18\",\"12\",\"9\",\"9\",\"18\",\"11\",\"8\",\"10\",\"1\",\"1\",\"15\",\"14\",\"10\",\"8\",\"19\",\"14\",\"9\",\"15\",\"19\",\"16\",\"18\",\"13\",\"10\",\"14\",\"10\",\"18\",\"10\",\"10\",\"19\",\"8\",\"9\",\"1\",\"13\",\"13\",\"0\",\"13\",\"13\",\"1\",\"6\",\"18\",\"19\",\"19\",\"18\",\"18\",\"13\",\"10\",\"10\",\"10\",\"5\",\"19\",\"8\",\"13\",\"18\",\"10\",\"10\",\"15\",\"10\",\"13\",\"18\",\"10\",\"15\",\"17\",\"10\"],\"labels_num\":{\"__ndarray__\":\"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\",\"dtype\":\"int32\",\"order\":\"little\",\"shape\":[1751]},\"query\":[\"wahlomat \\u00fcber goole.de\",\"partei sicherheit\",\"die linke\",\"wahlinhalte\",\"wahl-o-mat + deinwal\",\"wahlprogramme\",\"parteiprogramm\",\"informationen zu kandidaten,\",\"laptop\",\"klimawandel\",\"welche partei will die corona ma\\u00dfnahmen endlich abschaffen\",\"informationen zu parteien\",\"wahlprogramme\",\"kanzlerkandidat im vergleich.\",\"aktuelles wahlprogramm von...\",\"programm der jeweiligen partei\",\"auslandsrecht\",\"parteiprogramme zusammenfassung, wahlomat\",\"alleinerziehende mamas\",\"wahlprogramm\",\"innere sichrerheit\",\"wahlprogramme 2021\",\"wahlomat\",\"wissenschaftliche kl\\u00e4rung von begriffen und dann was welche partei dazu sagt und wie sie handelt.\",\"wahlprogramme, bisheriges abstimmungsverhalten\",\"enteignung\",\"f\\u00fcr was jede partei steht, wahlaussagen, wahlprogramm\",\"asyl\",\"wahlomat\",\"wahlprogramm der einzelnen parteien\",\"wahlomat\",\"wer steht auf der kanzler liste\",\"geld\",\"wahl-o-mat\",\"wahlomat\",\"wahlprogramme, wahl-o-mat\",\"migration\",\"sozial programme,steuerpl\\u00e4ne,verkehrspolitik,umweltverbote\",\"grundeinkommen,\",\"wahl o mat\",\"wahlprogramme,  wahlinformation 2021, wahlinhalte\",\"wahlprogramme der parteien\",\"wahlprogramme\",\"whal o mat\",\"steuerprogramm der parteien, klimaschutzprogramm der parteien\",\"bessere arbeitspl\\u00e4tze\",\"linke wahlprogramm\",\"wahlomat\",\"kandidat\",\"meine heimat politisch\",\"politiker\",\"suche mir die einzelnen politiker aus und lese deren richtung\",\"wahlomat\",\"die folgen der digitalisierung weil arbeitspl\\u00e4tze verschwindenalso brauchen wir das bge\",\"themen der parteien\",\"freiheit, impfpflicht, steuererh\\u00f6hung, inflation\",\"wahlprogramm\",\"wahl o mat\",\"wahl partei positionen\",\"wahlomat\",\"kandidaten, parteien\",\"wahlomat\",\"klima sicherheit bildung rente\",\"wahlprogramm\",\"wahl-o-mat\",\"wahlprogramm parteien\",\"wahl\",\"aktuelles wahlprogramm\",\"wahlprogramm\",\"wahlprogramm parteien 2021\",\"wahlomat\",\"wahlgenerator\",\"wahlomat\",\"walomat\",\"pl\\u00e4ne, vitas der kandidaten, ziele\",\"politiker online\",\"parteiprogramme\",\"wahlprogramm der linken\",\"umwelt, innere sicherheit, rechtsradikalismus beobachten evtl. am besten ausmerzen, neonazis bek\\u00e4mpfen\",\"parteiprogramm\",\"legalisierung cannabis\",\"wahlomat\",\"wahlprogramme parteien deutschlands\",\"wahl-o-mat\",\"wirtschaftliche zukunft\",\"migration\",\"gesundheit\",\"wahlprogramm  parteien schwerpunkte\",\"wahlprogramm\",\"lebenslauf der kandidaten\",\"partei f\\u00fcr umwelt und eingeschr\\u00e4nkte migration\",\"namen des kandidaten, program der partei\",\"wahlomat\",\"wahlprogramm\",\"wahlthemen\",\"wahlprogramme\",\"wahl-o-mat\",\"welches ist partei die dem volk am wohlsten gesinnt ist ,\",\"wahlthema zu steuern\",\"kleidung\",\"umwelt nachrichten\",\"politik, wahlprogramm, buwa2021\",\"aktuell nachrichten\",\"wahlomat\",\"ausl\\u00e4nderpolitik\",\"umgang mit klimawandel\",\"wahlprogramm, kandidaten,\",\"wahlomat\",\"wahlomat\",\"wer vertrauensw\\u00fcrdig ist und h\\u00e4lt was er/sie verspricht\",\"migrationspolitik\",\"parteiprogramm\",\"wahlthema parrei\",\"politik macht und geld\",\"steuer reduzieren,mietegrenzen,rente\",\"wahlprogramm ...\",\"welche partei vertritt meine interessen\",\"partei, wahl, wahlprogramm\",\"welchen kandidaten stellen sich zur  auf\",\"wahlomat\",\"kandidaten , wahl-motto\",\"wahlomat\",\"welche partei passt am besten zu mir?\",\"wahlprogramm, parteien\",\"info zu allen aktuellen kanzlerkandidaten\",\"wahl-o-mat\",\"wahlprogramm parteien\",\"wah l2021\",\"nach klimadaten\",\"wahlprogramm partei xy\",\"wie sieht das wahlprogramm f\\u00fcr die... aus\",\"soziale netzwerke\",\"verkehrspolitik\",\"robert habeck\",\"die einzelnen parteien, einzelne politiker, parteien und ihre wahlthrmrn\",\"wahlprogramme der parteien\",\"biografie der/des kandidat/kandidatin\",\"wahlomat\",\"wahl-o-mat\",\"wal o mat\",\"corona\",\"hamburg\",\"wahlprogramme der parteien, wahl-o-mat\",\"wo f\\u00fcr setzen sich die parteien ein\",\"wahlomat\",\"wahlprogramm,\",\"informationen zu den parteien\",\"wahlen.kandidaten.\",\"wahlprogramm alle parteien\",\"wahlprogramm\",\"zu erhalten sind nicht nur einmal die ersten schritte von ihnen fragen und ihre hilfe in den n\\u00e4chsten wochen erhalten haben\",\"wahlprogramm der (\\u2026.), tagesschau themen zu (\\u2026), youtube kan\\u00e4le von vertrauensw\\u00fcrdigen quellen\",\"corona\",\"umfragen bei www\",\"parteiprogramme btw 2021\",\"parteien wahlprogramme \\u00fcbersicht\",\"programme der parteien zur\",\"kandidaten / einer kandidatin\",\"soziales\",\"wahlomat\",\"linke partei\",\"bundestagwahl\",\"kandidaten zur\",\"wahlprogramm\",\"wahlprogramme der einzelnen gr\\u00f6\\u00dferen parteien\",\"klimapolitik\",\"wahlprogramme\",\"wahlprogramme\",\"walomart\",\"politiker\",\"wahlomat\",\"wahlprogramm\",\"musik,mode shops/gesch\\u00e4fte schauspieler oder google earth. ich nach musik videos und computerzubeh\\u00f6r\",\"wahlen 2021\",\"wahlomat\",\"wahl-o-mat\",\"programm\",\"wahlomat\",\"deutsche\",\"parteiprogramm\",\"wahl-o-mat\",\"statista, webseiten der parteien oder kandidaten, programm der jeweiligen partei,\",\"wahlomat\",\"coronapolitik\",\"ziele parteien\",\"wahlprogramm\",\"wahlprogramme\",\"parteiprogramme soziale sicherheit\",\"zusammenfassung wahlprogramme\",\"klimaschutz\",\"wahlentscheidung\",\"wahlomat\",\"klima\",\"wahlprogramm\",\"wahl o mat\",\"afghanistan\",\"steuern, rente, finanzen, schulden\",\"wahlprogramm bei google\",\"wahlomat\",\"klimawandel\",\"rentenpolitik\",\"klima\",\"parteiprogramme\",\"wahlomat\",\"wahlprogramm\",\"umwelt - corono-ma\\u00dfnahmen - afghanistan - schulen\",\"wahlprogramme\",\"wahl-o-mat\",\"parteiprogramm\",\"wahlprogramm der einzelnen parteien\",\"ihre arbeit und kompitenz\",\"cannabis legalisierung wahlprogramm vergleich\",\"wahlprogramme\",\"wahlprogramme unterschiede\",\"wahlprogramme der parteien 2021\",\"cum ex, lebenslauf, steueraufkommen seit 1949, marode infrastruktur, steuerverschwendung, abschiebepflichtige,\",\"wahlomat\",\"programm der parteien\",\"kanzlerkandidaten, umweltprobleme\",\"wahl o mat\",\"parteiprogramm, stellungnahme zu bestimmten themen, kandidaten, lebenslauf von ...\",\"themen der einzelnen parteien, sowie der kandidaten und das zuk\\u00fcnftige m\\u00f6gliche regierungsteam\",\"wahl o mat\",\"kandidaten\",\"parteiprogramm und die partei \\u00fcber die ich mich informieren m\\u00f6chte\",\"ard; zdf, interview der kandidaten, vergleichen der parteiprogramme\",\"wahl-o-mat, parteiprogramme\",\"wahlprogramm\",\"wahlomat\",\"parteiprogramm\",\"kandidaten, ansichten, migration, wirtschaft\",\"rente, innere sicherheit, kriminalit\\u00e4t, impfungen-nebenwirkungen\",\"umweltsch\\u00fctzer\",\"corona\",\"welche partei ist f\\u00fcr klimaschutz\",\"politik\",\"krankheit\",\"\\u00fcber google suchen nach den ministerien, oder statistiken, reden aus dem bundestag, gesetze, oder vorlagen suchen. immer die hintergr\\u00fcnde suchen, wer profitiert wovon!\",\"programm einer partei\",\"wahlprogramm\",\"parteiprogramm vergleich\",\"wahlprogramme der parteien\",\"wahlprogramm\",\"politik\",\"wie entscheide ich wer ich w\\u00e4hlen aoll\",\"partei ziele wahlkampf\",\"wahl-o-mat, parteiprogramm\",\"anna lena braebock\",\"wahlomat\",\"wahlomat\",\"gibt es mehr grundsicherung\",\"parteien und ihre themen zur\",\"thema, partei, kandidaten\",\"bildung partei\",\"wahlprogramme zum klimawandel\",\"bedinungsloses grundeinkommen\",\"wahlprogramm der einzelnen parteien\",\"parteiprogramme,wahlprogramme\",\"standpunkt im parteiprogramm\",\"kandidaten\",\"wahlomat\",\"wahlomat\",\"was m\\u00f6chten die patein umsetzen\",\"sozialer frieden, gesundheit (z.b. pandemiebek\\u00e4mpfung), klima\",\"starker sozialstaat\",\"themenschwerpunkte der partei\",\"wahlprogramme\",\"wahlthemen\",\"wahlprogramm, aussagen von parteimitgliedern\",\"cv\",\"parteiprogramme\",\"wahlomat\",\"wahlprogramme,\",\"wahlprogramm, stellungnahmen\",\"parteiprogramm\",\"wahl-o-mat, danach guck ich mir die wahlprogramme n\\u00e4her an\",\"wahlomat\",\"bundestag. bundesregierung.\",\"wahl-o-mat, die partei, martin sonneborn\",\"wahlomat\",\"inflation, stabile renten,\",\"rente\",\"wahlprogramme\",\"wahlomat\",\"wahlprogramm\",\"wahlomat\",\"rente\",\"wahlprogramm, partei xy,\",\"walomat\",\"wahlprogramm\",\"wahlomat\",\"wahl-o-mat\",\"parteiinhalte vergleich ; wahlomat\",\"wahl-o-mat\",\"rente, umwelt, bildung\",\"wahlprogramm\",\"lebenslauf claudia roth\",\"kandidaten\",\"immer gucken und was mache ich welche auswahl\",\"klimawandel -ziele, rentenversicherung sicher\",\"parteiprogramme von xy parteien\",\"klimawandel\",\"wahl o mat\",\"\\u00fcber das geschehen in deutschland und aus aller welt\",\"wahlprogramm\",\"eine partei f\\u00fcr das volk\",\"welche partei passt zu mir\",\"welche partei ist die beste\",\"statistik der ranglisten beliebtheit der politiker\",\"wahlprogramm von partei xyz.\",\"ich suche nach dem parteiprogramm der partei die eventuell w\\u00e4hle .\",\"parteien wahlprogramm\",\"wahlomat\",\"klimakrise vergleich parteiprogramme\",\"rlp pk polizei flut\",\"tierschutz wahlprogramm\",\"wahlprogramm\",\"programme der einzelnen parteien (kurzfassungen), steckbriefe einzelner kandidat(inn)en, zusammenfassung einzelner debatten und \\u00f6ffentlichkeitsrelevanter diskussionen\",\"wahl o mat\",\"allgemeine medizinische fragen\",\"politik\",\"wahlomat, btw21, umfrageergebnisse,\",\"wahlthemen\",\"wahlprogramm 2021\",\"wahlprogramm\",\"versprechen der parteien\",\"wahl-o-mat\",\"- parteiprogramm der xxx zum klimaschutz, zum tierschutz, zur bildung oder zur gesundheit\",\"wahlomat\",\"wahl-o-mat\",\"wahlomat\",\"wahlomat\",\"wirtschaftspolitische ausrichtung partei 2021\",\"wahlprogramme der parteien, und was haben bestimmte politiker in der vergangenheit gesprochen und wie ist jetzt ihre meinung dazu\",\"parteiname wahlprogramm 2021\",\"politische ma\\u00dfnahmen ahrtal\",\"parteien, kanzlerkandidaten\",\"ziele der partei xy\",\"b\\u00fcrgerbeteiligung, tempolimit,\",\"wahlomat\",\"wahlomat\",\"wahlversprechen der parteien\",\"wahlprogramm\",\"wahlen 2021\",\"walomat\",\"parteiprogramm\",\"ich suche die wahlprograme f\\u00fcr je partei\",\"programme der parteien\",\"wahl-o-mat\",\"wahl o mat\",\"wahlprogramm \\\"partei\\\", thema, das mich interessiert \\\"partei\\\"\",\"wahlomat\",\"rente\",\"angleichung rente\",\"informationen \\u00fcber eine partei\",\"aufsichtsratsmandat, nebenbesch\\u00e4ftigung, lobbyist\",\"parteiwebsite, wal-o-mat\",\"wahlomat\",\"emissionshandel, klimaziel erreichbar?\",\"tierschutz partei\",\"walomat\",\"sicherheit\",\"wahlomat\",\"wahlprogramm\",\"bibel verse, dravidian, v\\u00f6lker\",\"umweltpolitik parteien programme ziele solarenergie windenergie elektroautos\",\"wahlprogramm partei xyz\",\"wie viel rente bekomme ich 2022.\",\"partei programme\",\"wahlprogramme der parteien\",\"wahl o mat\",\"wahlprogramm parteien\",\"wahlziele\",\"wahlprogramm\",\"genau die partei\",\"wahlprogramme\",\"welche partei tritt f\\u00fcr die sofortige abschaffung der menschenverachtenden maskenpflicht und der weiteren einschr\\u00e4nkungen ein\",\"wahlprogramme\",\"wahl-o-mat\",\"\\u00f6ffnungszeiten\",\"welche der beiden stimmen ist wichtiger\",\"wahlprogramm\",\"kandidaten\",\"unterschiede\",\"bundeskanzler, politikbarometer, politik im tv,\",\"wahl o mat\",\"wahl o mat\",\"wahl-o-mat\",\"wahlomat\",\"wahlomat\",\"wahlomat\",\"wahlprogramm\",\"wahlomat\",\"wahlkampf, parteiziele\",\"bundestags- wahl, parteien, kandidaten\",\"wahlprogramm <parteiname>\",\"wie k\\u00fcmmert sich die .. partei um umwelt, finanzen, gesundheitswesen ...\",\"wahlprogramm aller parteien\",\"walo mat\",\"rente\",\"politik, wahlomat\",\"wahl o mat\",\"abr\\u00fcstung, linke,\",\"steuersenkung\",\"lebenslauf, vorstrafen\",\"verm\\u00f6genssteuer\",\"wahlometer\",\"wahl-o-mat\",\"parteiprogramm\",\"wahl-o-mat\",\"kandidaten\",\"parteiprogram,lebenslauf des kandidaten,pers\\u00f6nliche haltung des kandidaten\",\"wahlprogramm (partei xy)\",\"bearbook\",\"bundestag wahl fakten\",\"wahlhilfe\",\"wahl-o-mat\",\"parteiprogramme\",\"wahlomat\",\"profil der kanzlerkandidaten\",\"wahlomat\",\"zuwanderung, wahlprogramme\",\"wahl-o-mat\",\"die thematik wof\\u00fcr die parteien stehen. welche richtung sie einschlagen wollen und vergleichen wer genauso es plant und was eine partei alleine machen k\\u00f6nnte.\",\"wahlomat; haltung zu corona parteienvergleich; allianz pro schiene parteien ; verkerspolitik ziele der parteien\",\"parteiprogramm, allgemeine infos politiker internet\",\"was haben die parteien die letzten 5 jahre gemacht\",\"die linke und nato\",\"wahlomat\",\"verteilungskampf\",\"programm\",\"partei programm\",\"wahlomat\",\"nach meinen priorit\\u00e4ten, z. b. gesundheitsreform, h4,\",\"wahlprogramme der einzelnen parteien , wahl-o-mat\",\"kandidat\",\"wahlomat\",\"wahlprogramm\",\"wahlprogramm alle zusammengefasst\",\"wahlprogramm\",\"lebenslauf von kandidaten\",\"wahlthema der parteien\",\"wahlprogramm\",\"wahl-o-mat\",\"stichworte: wahlprogramme  21, parteinenvergleich, gezielt nach f\\u00fcr mich wichtigen politikfeldern (z.b. bildung, wohnungspolitik oder sozial politik)\",\"festlegungen zum klimawandel\",\"wahl-o-mat\",\"wahl o mat\",\"(partei name) wahlprogramm\",\"wahl-o-mat\",\"wahlprogramm\",\"wahlprogramm der partein\",\"parteien, jeweilige vorschl\\u00e4ge von bestimmten kanditatin lesen,\",\"wof\\u00fcr setzt sich partei xy ein. pro und contra punkte der partei\",\"welche partei welche pl\\u00e4ne hat\",\"wahlomat\",\"isalmisierung\",\"wahlprogramme der parteien\",\"wahlomat\",\"parteiprogramme\",\"wahlprogramm der \\u201eparteiname\\u201c\",\"wahlprogramm 21\",\"parteien in dtld\",\"kandiaten,\",\"wahlomat\",\"klimaschutz, verkehrswende\",\"b\\u00fcrgerversicherung steuerfahndung infos zu kandidaten\",\"wen kann man w\\u00e4hlen\",\"f\\u00fcr was die partei sich einsetzt\",\"wer ist gut f\\u00fcr deusxthlnd\",\"faktencheck, kanzlerkandidat, wahlprogramm, wahlomat\",\"aktuelle wahlprogramm kurzfassung\",\"wahlprognose\",\"parteiprogramme, kandidaten\",\"ghesundheit\",\"subventionen firmen steuer\",\"wahlprogramme\",\"parteien aktuell deutschland\",\"politik\",\"wahlomat\",\"wal-o-mat\",\"wahlomat\",\"parteiprogramm\",\"walomat, parteiprogramm der ......\",\"wahlprogramm\",\"wahlomat\",\"informationen \\u00fcber die kandidaten\",\"kandidaten\",\"rente\",\"wahl-o-mat\",\"wahlprogramm\",\"ehrenmord, einwanderung,\",\"vergleich wahlprogramme\",\"wahlomat\",\"asyl rechte f\\u00fcr deutsche\",\"wahlprogramm\",\"wahlprogramme\",\"altersarmut, rente, innere sicherheit,\",\"wahlomat\",\"wahlprogramm partei xy\",\"aktuelle politische themen\",\"wahl-o-mat\",\"es ist sehr wichtig, dass man die w\\u00e4hlt\",\"klima u gesundheit\",\"wahlen 2021\",\"wahlthemen der parteien\",\"wahl-o-mat, parteiprogramm analyse,\",\"wahlumfragen\",\"rente\",\"wahlomat\",\"wahlprogramm\",\"wahl o mat\",\"nach dem wahlprogramm was eine partei vor hat in zukunft besser zu machen oder zu \\u00e4ndern.\",\"zuwanderung begrenzen\",\"wahl o mat\",\"wahlpartei, youtube etc\",\"wahlomat\",\"wahlomat .\",\"wahl-o-mat\",\"wahl o mat\",\"gesundheit\",\"soziale gerechtigkeit\",\"mieten, steuern, linke\",\"personen,artzte gegend\",\"parteiprogramm, wahlomat, statista, forsa\",\"klimawandel, energiewende, elektroauto\",\"wahlprogramme\",\"wahlomaat\",\"wahlprogramm \\\"partei\\\"\",\"was sind die neuen corona regeln\",\"wahlprogramme der parteien\",\"wahlprogramme\",\"umweltminister\",\"wahlomat, kriege, frieden, russland, china, demos, wasserstoff, ,,,\",\"wahl-o-mat\",\"wahl-o-mat\",\"wahlomat\",\"parteiprogramme\",\"wahlthemen\",\"tierwohl\",\"steuersenkung\",\"themenwahl zu politischen und wirtschaftlichen dingen.\",\"manuela schwesig\",\"thema und kandidat oder partei\",\"wahlomat\",\"wahl o mat\",\"wahlprogramm der jeweiligen partei f\\u00fcr die ich interessiere\",\"gesundheit\",\"klima\",\"wahlprogramm parteien\",\"rente\",\"thema.....partei....\",\"parteien programme btw2021\",\"steuern - parteiprogramme bt ; wenn ich steuern suche + ggf. interviews mit kandidaten auf youtube o.\\u00e4.\",\"wahlprogramm [partei einf\\u00fcgen]; bundestag\",\"wahl o mat\",\"parteien klimaschutz\",\"zu angaben zu denpersonen\",\"ich suche nach dem wahlomat um mehr informationen zu bekommen\",\"wahlomat\",\"nord stream 2\",\"wahl-omat\",\"wahlprogramm der jeweiligen partei\",\"umfragewerte\",\"integere pers\\u00f6nlichkeiten,(z.b. peter scholatourdemokratie- verst\\u00e4nis,youtube,.....\",\"standpunkt (jeweilige partei) zur impfung\",\"grundsatzprogramme der in frage kommenden parteien\",\"wahlomat\",\"wahlomat\",\"unterschiede der parteien\",\"wahlomat\",\"steuer\",\"wahlomat\",\"wahl/ parteien\",\"umweltpoltitk, pflegepolitik,\",\"wahl-o-mat\",\"wahlomat\",\"wahl o mat\",\"wahlomat, parteiprogamme\",\"parteiprogramme vergleich\",\"kandidaten zur\",\"wahlomat, parteiprogramme,  kanzlerkandidaten\",\"klimawandel und eine partei\",\"wahlomat\",\"kandidat wahlkreis thema d. frage\",\"wahlomat\",\"rente\",\"wahlomat\",\"wahlprogramm\",\"ausbildung,doktorat,korruption,pharmaindustrie,coronapolitik\",\"wahlomat\",\"wind energy alternatives\",\"wahlomat\",\"wahl-o-mat\",\"die themen der parteien\",\"politik\",\"welche partei steht f\\u00fcr was\",\"umweltschutz, corona, einzelne fragen, wirtschaft, grundeinkommen\",\"aktuelle umfrageergebnisse\",\"wahl-o-mat\",\"wahlomat\",\"die partei die person\",\"erderw\\u00e4rmung\",\"wahlomat, wikipedia, wahlprogramme\",\"wahlprogramm\",\"marcus soder\",\"deutschland\",\"wahlprogramm der partei\",\"parteien vergleich\",\"wahlprogramm die parzei\",\"parteivergleich\",\"wahlen 2021\",\"gesundheit\",\"kapitalertragssteuer\",\"migration\",\"wahlprogramme\",\"informationen zum triell, wahlomat\",\"wahlomat\",\"heilbronn\",\"bremen nord ort\",\"wichtigen themen von parteien\",\"parteiprogramme vergleich - alternativen wahlomat - faktencheck\",\"wahlomat\",\"entlohnung, allgemeing\\u00fcltigkeit tarifvertrag, rente, sozialsystem\",\"wahl-omat\",\"wahl-o-mat\",\"wahl2021\",\"klimawandel.\",\"kanidaten, themen, koalisation,shymphatie ,fundierte konzepte\",\"wahlomat\",\"wahlprogramm\",\"den namen eines kanditaten z.b. angela merkel\",\"kommt auf die information an, die ich suche\",\"kanzlerkandidat\",\"wahl- o-mat\",\"wahlomat\",\"wahlprogramm parteien\",\"wahl-o-mat\",\"wahlomat\",\"welche partei w\\u00e4hlen 2021\",\"wahlprogramm partei coronama\\u00dfnahmen ende\",\"wahlkampf spenden nach partei\",\"parteiname, politthema, wahlen\",\"wahlprogramm parteien bundestag\",\"politik\",\"wahl-o-mat\",\"wahlomat\",\"w\\u00e4hl o mat\",\"welcher partei ist innere sicherheit wichtig\",\"politik\",\"wal-o-mat\",\"corona, wahl, wahlprogramm\",\"ich w\\u00fcrde direkt das parteiprogramm suchen, die website der partei\",\"wahlomat, jeweilige partei\",\"vergleichendes wahlprogramm der parteien\",\"tierschutz, klimaschutz, schutz der weltmeere,\",\"wahlen\",\"klimawandel\",\"vergelich der politikziele der einzelnen parteien\",\"umfragen ergebnisse, hintergrundberichte in den medien\",\"ausl\\u00e4nder problem\",\"w\\u00e4re nicht relevant f\\u00fcr mich aber walomat k\\u00e4mme infrage\",\"wahlomat\",\"wie denken die parteien \\u00fcber migration\",\"wahlprogramm rente, aktien, kapitalbildung, klimawandel\",\"wal-o-mat, parteiprogramme \\u00fcberblick\",\"parteien wie stehen sie zur rente\",\"wahlomat, anna lena baerbok, coronama\\u00dfnahmen, umfragewerte\",\"wahlomat\",\"wer seine stimme abgibt, hat danach nichts mehr zu sagen.\",\"politik aktuell\",\"wahlen 21\",\"kinder alltag\",\"wahlprogramm partei xy\",\"informationen zu partei\",\"1.) parteiprogram 2.) f\\u00fchrungskr\\u00e4fte lebenslauf\",\"wahl-o-mat\",\"wahlprogramm\",\"verschiedenes\",\"wahl o mat\",\"parteiprogramm\",\"wahlprogramm\",\"wahlprogramm von x partei\",\"wahl o mat\",\"partei wahl bildung\",\"co 2 steuer\",\"wahl o mat\",\"zu diesem thema suche ich nicht\",\"b\\u00fcrgerpartei\",\"klima\",\"wahlumfrage\",\"klimapolitik\",\"parteiname parteiprogramm zusammenfassung\",\"wahlomat\",\"wahlen 2021\",\"kandidaten  wahlprogramm auf einen blick wahlomat\",\"lebenslauf\",\"walomat\",\"wahlomat parteien\",\"kosten f\\u00fcr die transformation in der umwelt politik\",\"wahl-o-mat\",\"wahlprogramme der parteien\",\"keine erh\\u00f6hung sprit und steuern\",\"partei/thema\",\"pflegversicherung + wahlprogrmm\",\"wahl o mat\",\"islam kriminait\\u00e4t moslems\",\"wahleinsch\\u00e4tzunge\",\"steuern f\\u00fcr rentner\",\"standpunkte parteien\",\"kandidaten\",\"wahl.-o-mat\",\"wahlberechtigte mit migrationshintergrund nicht zulassen und mit doppelter staatsb\\u00fcrgerschaft gleich gar nicht!\",\"wahlprogramm linke\",\"wahl o mat\",\"wahlomad\",\"wahlomat 2021\",\"wahlomat\",\"wahlprogramme\",\"wahlomat\",\"entscheidungshilfe\",\"parteiprogramm partei xy\",\"parteien \\u00fcbersicht\",\"wahlprogramm\",\"bildung\",\"klimapolitik\",\"rentenreform\",\"wahl o mat\",\"wahlprogramm\",\"parteiprogramm, parteiname, 2021\",\"kandidat\",\"wen kann man noch w\\u00e4hlen\",\"wahl-o-mat, parteiprogramme  vergleich, interview spitzenkanditaten\",\"parteiprogramm\",\"wahlprogramm der parteien, schwerpunkte der einzelnen parteien, familienpolitik,\",\"wahlprogramm parteien\",\"[name der partei] wahlprogramm kurzfassung\",\"wahl-o-mat\",\"f\\u00e4llt mir spontan nichts ein\",\"welche partei steht f\\u00fcr soziales\",\"verbrechen der politik\",\"suche nichts\",\"politik wahlprogramm der parteien\",\"soziale gerechtigkeit\",\"soziale themen\",\"wahl-o-mat\",\"unterschiedlich\",\"wahlomat\",\"wahlentscheidungshilfe\",\"wahlprogramm\",\"parteiprogramm\",\"wahl-o-mat\",\"wahlomat\",\"name, thema\",\"wahlprogramme 2021\",\"warum ist dis schwester des vorstandsvorsitzenden von biontech bei der partei die basis\",\"wahl-o-mat\",\"klimaschutz\",\"wahlomat\",\"wahlprogramm\",\"adressen telefonnummern \\u00f6ffnungen\",\"wahl o mat\",\"wahl-o-mat\",\"kochrezepte , hunde in not , rentenbesteuerung\",\"wahlprogramm\",\"abgeordnetenwatch abstimmung afghanistan\",\"wahl-o-mat; wahlprogramm\",\"wahlprogramm\",\"wahlprogramm \\\"partei xxx\\\"\",\"das vorhaben der parteien\",\"wahlprogramm aller parteien\",\"umwelt\",\"wahl\",\"wahlomat\",\"menschlichkeit\",\"walomat\",\"wahlprogramm\",\"klimaschutz\",\"tierschutz\",\"wahlprogramme 2021\",\"grundrechte\",\"wahlomat\",\"was ist f\\u00fcr deutschland besser\",\"wahlprogramme 2021\",\"wahlomst\",\"wahlkampf\",\"wahlomat\",\"wahl o mat\",\"parteiprogramme\",\"wahl o mat\",\"aufgabe der demokratie\",\"linke\",\"wahlomat, wahlprogramm,\",\"wahlprogramm partei xy, wahlomat,\",\"dinge im alltag\",\"wahlomat\",\"wahlimat\",\"wahlprogramm parteien\",\"wahl-o-mat\",\".themen eine partei\",\"wahl-o-mat\",\"parteiprogramm der parteien f\\u00fcr die\",\"pandemie ende\",\"wahlprogramme\",\"gr\\u00f6\\u00dfe des bundestages\",\"wahlprogramm\",\"welche partei bietet was im wahlprogramm\",\"programm einer partei\",\"leneslauf eines kandidaten\",\"wahlprogramm\",\"positionen der parteien\",\"wahl-o-mat - parteiname\",\"pateiprogramm\",\"wahl-o-mat\",\"anzahl krimineller unter migranten\",\"wahlomat\",\"ich w\\u00fcrde nach wahl-o-mat suchen\",\"welche partei m\\u00f6chte den mindestlohn auf 12\\u20ac setzen?\",\"programm  ssteuer\",\"klima wahlprogramm\",\"ausl\\u00e4nder kriminalit\\u00e4t,rente,sozialleistung.\",\"politik\",\"wahlomat, wahlprogramm\",\"wahlprogramme\",\"kanidatenname , partei oder wahlprogramm\",\"themen \\u00fcber die nato, who, die neue weltordnung mit themen aus davos, welche politikdarsteller schon einmal bei den bilderberger treffen zu gast war, \\u00fcber den faschistischen bzw politischen islam,\",\"innere und \\u00e4u\\u00dfere sicherheit, nato, wirtschaftspolitik, schutz des eigentums\",\"parteiprogramm\",\"wahlomat, google\",\"wahlhilfe oder wahlentscheidungsfinder oder wahlprogramme 2021\",\"prozentuale beliebtheit der kanzlerkandidaten\",\"wahlomat\",\"verstehe die frage nicht\",\"wahlprogramm [der partei]\",\"wahlprogramm\",\"wahlomat\",\"wahl o mat\",\"sdp\",\"wahlomat\",\"wahlomat\",\"wahlprogramm + name der partei\",\"wahl-o-mat\",\"wahl-o-mat, wahlprogramm\",\"wahlomat\",\"wahlstrategie\",\"steuererleichterungen welche partei\",\"wahlomat\",\"wahl-o-mat\",\"zuerst die partei und dann das thema\",\"wahl-o-mat\",\"nzz  bzw. mdr parteien  bzw. wikipedia  bzw. economist german election\",\"parteiprogramm wahlprogramm\",\"wahlen\",\"wahl o mat, wahlprogramm,\",\"wahl o mat\",\"was w\\u00e4hlen\",\"politik\",\"wahlkampagne\",\"programmen der kandidaten\",\"thema klimawandel\",\"programmpunkte\",\"internetseite einer partei, eines ministeriums oder eine n.r.o., name eines politikers\",\"wahlprogramm 2021, partei\",\"- pensions- und einwanderungsprogramme der partei.\",\"umfage\",\"wahl-o-mat\",\"wahlprogramm\",\"wahlomat\",\"waabenknecht\",\"nach der partei, welche mich interessiert\",\"die freien w\\u00e4hler und die gerechtigkeitspartei\",\"wie hoch ist der co2 gehalt in deutschland\",\"corona dieselfahrzeuge\",\"rente, wohnungsbau, gesundheitssystem\",\"wahlprogramm kurzfassung\",\"wahl o mat\",\"wahlprogramm\",\"wahlprogramm\",\"wahlomat\",\"bildung\",\"ergebnisse des politbarometers\",\"wahlomat\",\"aktuelle politische themen\",\"wahlprogramm der betreffenden partei und evtl. suche nach aussagen konkreter politiker auf bundesebene.\",\"wahlprogramme\",\"wahlprogramm\",\"die themen von den parteien\",\"klimaschutz, humanit\\u00e4t\",\"wahlprogramm\",\"welche partei hat die besten umweltziele?\",\"wof\\u00fcr eine partei steht\",\"tierschutzparteien, partei wahlprogramm\",\"partei mitglieder programm\",\"wahlprogramme gegen\\u00fcbetgestellt\",\"kommt darauf an was ich wissen will\",\"energiewende konzepte\",\"kandidaten\",\"wahlomat\",\"wahl o mat\",\"partei sicherheit und gerechtigkeit\",\"die linke\",\"innenpolitik\",\"wahlversprechen der verschiedenen parteien\",\"coronaregelung\",\"weg mit den corona ma\\u00dfnahmen\",\"soziale absicherung\",\"standpunkte der parteien zum thema\",\"nach der entsprechenden partei und was sie dazu schreib plus einer seri\\u00f6sen zeitung ob man dort noch etwas dazu findet\",\"online banking\",\"welche internationalen regeln und vereinbarungen gibt es zu bestimmte themen der internationalen beziehung. wie werden diese von parteien (falls in der regierung) umgesetzt oder was wollen sie erreichen.\",\"steuersenkungen\",\"kriminalstatistik\",\"gesund\",\"finanzielle zusch\\u00fcsse f\\u00fcr cochlea implantat tr\\u00e4ger\",\"welche partei ist f\\u00fcr eine bessere sicherheit?\",\"usa\",\"au\\u00dfenpolitik\",\"800 euro job\",\"corona\",\"zuwanderung\",\"tempo 130\",\"wahl sozialpolitik\",\"bessere schulsysteme\",\"wahlomat\",\"arbeitsamt\",\"ziele der diversen parteien\",\"parteiprogramme der einzelnen partein\",\"inzidenz\",\"kassenlage der krankenkassen\",\"sicherheit\",\"migration\",\"programme der parteien\",\"wahlprogramm\",\"altersvorsorge  welche partei setzt sich ein\",\"arbeismarktpolitik / grundeinkommen / hartz 4\",\"sicherheit\",\"bpb\",\"krankheit\",\"corona - wie lange noch\",\"finanzplan, coronaprogramm\",\"wahlversprechen\",\"agora energiewende\",\"gesteuerte zuwanderung\",\"wichtiger thema\",\"wer welche strategie hat\",\"migrationspolitik partei xy\",\"zuwanderung standpunkt partei\",\"wahlprogramm\",\"islamisierung, terror,\",\"miete steigerung\",\"soziale netzwerke\",\"wahl\",\"co2 aussto\\u00df, e autos,kliemaerw\\u00e4rmung weltweit\",\"corona\",\"arbeitsrecht\",\"wahlprogramme der parteien.\",\"sicherheit\",\"zu den themen geh\\u00f6ren die wir auch in den letzten tagen von uns h\\u00f6ren lassen wollten oder m haben diesen\",\"parteiprogramme btw 2021\",\"wahlprogramme der parteien\",\"barmer\",\"beziehung\",\"linke partei\",\"hartz 4 erh\\u00f6hen\",\"umsatztateuwrn\",\"wahlprogramm\",\"fl\\u00fcchtlinge\",\"steuerprogramme der parteien\",\"parteiprogramm soziales + partei\",\"walomart\",\"fl\\u00fcchtlinge\",\"vorallem tierschutz. informationen zu einigen politikern bei youtube *wegen der wahlen)\",\"l\\u00e4nder\",\"greenpeace\",\"programm\",\"konjunktur\",\"statista, webseiten der ministerien, presseartikel national und international, kurse von aktien, fonds usw.,\",\"pflege und l\\u00f6hne\",\"direkte frage an google\",\"wieviele einwanderer pro monat\",\"sicherheit\",\"steuers\\u00e4tze deutschland\",\"sozialministerium bei google\",\"hochwasser 2021\",\"schulen\",\"parteiprogram\",\"wahlprogramme\",\"parteivergleich\",\"wer ist fuer tempolimit\",\"au\\u00dfenpolitik wahlprogramm vergleich\",\"situation *land*\",\"kriminalstatistik, polizeibericht, todesopfer durch migration, anteil der migranten in bezug zu ihrem tats\\u00e4chlichen anteil an der gesamtbev\\u00f6lkerung\",\"bfa, die linke, stadtwerke\",\"ausl\\u00e4nderanteil\",\"innenministerium\",\"zuwanderung deutschland\",\"finanzsystem deutschland\",\"zinsen auf festgeld\",\"parteitprogramm einzelner parteien\",\"wahl-o-mat, parteiprogramme, hauptkriterien der einzelnen parteien zu thema\",\"lehrpl\\u00e4ne\",\"schengen, grenzsicherung + vefassung.\",\"coronama\\u00dfnahmen, klinikschlie\\u00dfungen, land\\u00e4rzte, impfkampagne\",\"aktien\",\"vergleiche wahlprogramm parteien\",\"daten & fakten zur sicherheit in deutschland\",\"statista\",\"was kostet ein schnelltest\",\"verwandte stichworte\",\"bundestgswahl steuererh\\u00f6hungen\",\"passende webseite\",\"atomkraft\",\"wahlprogramm der einzelnen parteien\",\"im wahlprogramm\",\"standpunkt in den parteiprogramm\",\"altenpflege\",\"strafverfolgung\",\"soziale verbesserung der bed\\u00fcrftigen\",\"verbesserungsvorschl\\u00e4ge zum thema\",\"zahlen\",\"siehe vorherige antwort\",\"schulsystem, klassenst\\u00e4rke, universit\\u00e4tenranking, anzahl der genderprofessuren,\",\"politik\",\"bundesministerium,\",\"rki, meine stadt\",\"zahlen - \\u00fcberwiegend von neutralen plattformen\",\"parteiprogramm\",\"afghanistan\",\"terror\",\"welche partei zum thema am kompetentesten ist\",\"wahlprogramm\",\"wahlprogramm\",\"pateiprogramme\",\"wahlprogramm\",\"wahl-o-mat\",\"co2-reduzierung, w\\u00e4lder, wasser\",\"bund\",\"sozialstaat\",\"\\u00e4rzte\",\"wahlprogramm der einzelnen parteien.\",\"zuwanderung\",\"welche partei die mir das bieten kann\",\"welche partei passt zu mir\",\"wie lege ich mein geld richtig an\",\"welche partei verfolgt diese ziele\",\"parteien  konzept\",\"mindestlohn\",\"soziale gerechtigkeit, vorschl\\u00e4ge soziale gerechtigkeit parteien,  parteiprogramm\",\"wahlprogramm 2021\",\"wieso greift die bundesregierung bei dem gdl streik nicht ein\",\"mindestlohn.\",\"den momentanen stand und wo geht es hin\",\"schulsystem\",\"jens spahn\",\"parteiwebseiten deren wahlprogramme\",\"statistik\",\"was wollen verschiedene partein an den schulsystem \\u00e4ndern?\",\"vergleich parteiprogramme zur wahl2021\",\"wahlprogramm\",\"kohleausstieg co2-preis tempolimit\",\"linke hartz4\",\"statistisches bundesamt\",\"geheimdienst\",\"eu-kommission, eu sanktionen\",\"parteiprogramme\",\"wie viele einwanderer hat deutschland aufgenommen?\",\"corona impfung krankenh\\u00e4user pandemie\",\"parteiprogramm\",\"steuersenkung\",\"partei b\\u00fcndnis grundeinkommen\",\"krankenkassen\",\"wahlprogramm\",\"wahl-o-mat\",\"how does germany do in digital world\",\"terrorismus, zuwanderung, wahl\",\"co2\",\"stellenangebot\",\"sicherheit politik, kriminalt\\u00e4tsraten, fl\\u00fcchtlinge,\",\"wahl-o-mat\",\"steuerrecht\",\"parteiprogramme\",\"parteiprogramm der einzelnen parteien\",\"versicherungsbeitr\\u00e4ge\",\"wahlprogramm der partei...\",\"wahlprogramme 2021\",\"abr\\u00fcstung, atomabkommen, beziehungen zu russland\",\"kriminalstatistik\",\"krankenkasse\",\"welche vorschl\\u00e4ge der parteien gibt es\",\"fl\\u00fcchtlinge deutschland parteiprogramme\",\"vorsorge\",\"parteiprogramm\",\"parteiprogram\",\"zuwanderung wahlprogramm\",\"arbeitslosenqoute\",\"integration von migranten\",\"stellen schaffen\",\"was versprechen die parteien uns imalter\",\"wahl-o-mat\",\"planung f\\u00fcr die zukunft wie diese untergebracht werden und besonders wie viele geplant sind. wie die integration sich gestalten soll und welchen einfluss die antr\\u00e4ge auf das sozialstaat haben k\\u00f6nnten\",\"schule\",\"corona vergleich parteien\",\"kriminalstatistik\",\"aktien\",\"wahlomat\",\"wahlprogramme nachhaltigkeit\",\"ganztagsschulen\",\"corona\",\"sozial politik\",\"jobb\\u00f6rsen\",\"welche partei hat das\",\"abschiebungen 2021\",\"parteien zum ezb anleihekauf\",\"medikamente\",\"asyk\",\"solaranlage, windenergie, windr\\u00e4der,\",\"islam\",\"soziale vorhaben deutscher parteien\",\"versicherungen\",\"wahlomat\",\"b\\u00fcrgerversicherung\",\"kurzfassung wahlprogramm\",\"\\\"derfreitag\\\" + bl\\u00e4tter f\\u00fcr deutsche und internationale politik\",\"parteiprogramm\",\"geld f\\u00fcr krankenh\\u00e4user\",\"h\\u00f6he hartz4\",\"mediathek\",\"schulbildunssystem in deutschland\",\"haushaltsprogramm, witschaftsprogramm\",\"aktuelle coronazahlen, parteiprogramm der ....\",\"parteiprogramm...\",\"welche partei setzt sich f\\u00fcr eine steuersenkung ein?\",\"statistik erderw\\u00e4rmung und folgen\",\"die best\\u00e4tigung das die \\u00fcberfremdung unsere lebensart zerst\\u00f6rt und wir fail staat sind\",\"respekt\",\"polizeischutz innerhalb deutschlands\",\"mindestlohn, hartz iv\",\"themen\",\"alle aktion informationen\",\"arbeitsbedingungen in der pflege\",\"rebtenvergleich\",\"welche partei daf\\u00fcr spricht\",\"fl\\u00fcchtlingspolitik\",\"steuerpolitik der einzelnen parteien\",\"statistik zuwanderung\",\"bamf\",\"verschiedene seiten\",\"covid\",\"bvg\",\"mindestlohn. entwicklung. eu\",\"pflege\",\"grenzen sch\\u00fctzen/schlie\\u00dfen\",\"finanzwelt\",\"arbeitslosenzahlen\",\"wahlomat\",\"konjunktur oktober\",\"wahlprogramm\",\"wahlprogramm aller parteien\",\"parteiprogramm\",\"steuererh\\u00f6hung\",\"wann kommt endlich das verbrennerverbot\",\"alles zu internationalen themen\",\"schule\",\"vdk, ?\",\"grundsicherung f\\u00fcr alle\",\"wahlomat\",\"steruern\",\"soli\",\"polizei\",\"pflegeheime in hro\",\"steuer\",\"corona\",\"(ich suche nicht gezielt danach, ich habe schon im laufe der letzten jahre genug dar\\u00fcber geh\\u00f6rt. wer noch nicht viel dar\\u00fcber geh\\u00f6rt hat, dem empfehle ich) mann messer (oder auch) w\\u00fcrzburg islamistisch\",\"kriminalt\\u00e4tsstatistik\",\"polizei\",\"relevante themen zu dem thema suchen. beispiel kapitalertragssteuer. dann googeln wie verschiedene parteien das handeln\",\"zahl migranten 2021\",\"wahlomat\",\"ipcc 2021\",\"co2\",\"afghanistan\",\"sozialer ausgleich\",\"impfen\",\"geplante ausgaben\",\"ursachen des versagen der politik des westens(usa einschlie\\u00dflich brd)....\",\"wahlomat\",\"greta\",\"wahlomat\",\"tempolimit\",\"welche partei hat \\u2026 im programm.\",\"wahl-o-mat\",\"wahlomat\",\"wahlprogramm\",\"einwanderund daf\\u00fcr dagegen\",\"wahlomat\",\"pandemiemanagement, 3g\",\"mindestlohn,arbreitnehmerrechte\",\"wahlprogramm sozials\",\"pro und kontra windenergie\",\"parteiprogamme\",\"covid-19\",\"erderw\\u00e4rmung\",\"steuersenkungen\",\"nachhaltigkeit politik\",\"wann gehen die zahlen zur\\u00fcck\",\"wahlprogramme\",\"wahl soziales\",\"programme der parteien\",\"allgemeing\\u00fcltigkeit tarifvertrag\",\"aussagen hierzu der jeweiligen partei\",\"soziales die linke\",\"ziele der einzelnen partein\",\"imigration\",\"unabh\\u00e4ngige fachseiten\",\"bundesregierung\",\"wahl-o-mat\",\"wahlomat\",\"abschiebung\",\"wahlprogramm partei zuwanderung\",\"kohlenaustieg jahr nach partei\",\"tempolimit autobahn wahlprogramme\",\"aktuelles\",\"neues und b\\u00f6rsen themen\",\"wahl-o-mat\",\"steurn sparen\",\"w\\u00e4hl o mat\",\"welche partei steht f\\u00fcr berechtigte abschiebung\",\"corvid\",\"corona\",\"ahoi.at, parteien\",\"fl\\u00fcchtlinge sind freaks man muss sie alle lange vertreiben und nicht die menschen in deutschland qu\\u00e4len\",\"soziales\",\"altersarmut\",\"steuerberater\",\"bundesministerien, parteien, interviews\",\"corona\",\"wen wahlen etwas \\u00e4ndern w\\u00fcrden, w\\u00e4ren sie verboten.\",\"fl\\u00fcchtlinge\",\"statistiken - aussagen von polizisten: regierungspolitikern traue ich in dieser frage nicht.\",\"aktuelle ziele der parteien\",\"gesund\",\"universit\\u00e4t sachsen\",\"wahlprogramme\",\"termin f\\u00fcr einen facharzt\",\"regierungsparteien\",\"altersversorgung parteipolitik\",\"innenpolitik\",\"extremwetterlagen\",\"co2 bepreisung\",\"arbeit\",\"bezahlbarkeit\",\"art 16a grundgesetz\",\"anzahl der einwanderer 2021\",\"kriminalitet\",\"gelf\",\"karl lauterbach lebenslauf\",\"werde ich nicht tun\",\"alle ausweisen, islam in deutschland verbieten, da diese religion die gewalt in deutschland potenziert! erfahrung aus 57 jahren lebenserfahrung!!!!!\",\"wahlprogramm [partei xy]\",\"wahlomad\",\"fl\\u00fcchtlingspolitik deutschland\",\"schule\",\"wahlprogramm soziales\",\"aktivit\\u00e4t\",\"parteiprogramme  soziales, soziale gerechtigkeit\",\"volt partei north stream 2\",\"programme der parteien zur\",\"verbrechen der politik\",\"suche nichts\",\"sicherheit in deutschland\",\"wahlomat\",\"position der parteien\",\"korruption der f\\u00fchrenden parteien deutschlands\",\"google, wikipedia, au\\u00dfenpolitische probleme, verh\\u00e4ltnis deutschland / anderes land\",\"altersarmut\",\"wahlomat\",\"grundeinkommen\",\"wahlprogramm xxx\",\"fl\\u00fcchtlinge\",\"was tun gegen plastik im meer\",\"aktien\",\"absicherung im alter\",\"vollmachten der bundespolizei\",\"wahlprogramme\",\"ausl\\u00e4nderzuwachs\",\"parteiprogramm\",\"alle suchbegriffe eingeben dir mir einfallen\",\"gegen das volk\",\"beh\\u00f6rdeng\\u00e4nge online, 5g-ausbau,\",\"starkregen unwetter probleme\",\"parteiprogramm\",\"corona, pflege\",\"co2-emmission\",\"politik kriminell\",\"lohnsteuersatz im wahlprogramm\",\"co2 aussto\\u00df deutschland\",\"kriminalstatistik\",\"kriminal statistik\",\"parteien fl\\u00fcchtlinge\",\"nachrichten international\",\"f\\u00f6deralismus\",\"migration2021\",\"walhprogramm \\\"soziales\\\"\",\"zustimmung aufnahme afghanen\",\"bundeshaushalt\",\"parteiprogamme\",\"statista\",\"meinung\",\"grundsteuer\",\"wahlomat\",\"wahlprogramm\",\"wahlprogramme\",\"wahlporgramme bundetags\",\"wahlprogramme der spitzenparteien\",\"arbeitslosenquote\",\"wahlomat\",\"zuerst das thema und dann die partei\",\"wahlversprechen 2021\",\"parteien programme corona\",\"privatversicherung/gesetzliche versicherung unterschiede\",\"wahlthemen der parteien\",\"fl\\u00fcchtlinge\",\"zuwanderer - parteiansichten bei der\",\"co 2 steuer\",\"die gerechtigkeitspartei\",\"was passiert mit plastik im meer\",\"wahlprogramme\",\"schadstoffklasse\",\"wahlprogramm migranten\",\"abschaffung von distanzregeln f\\u00fcr windr\\u00e4der parteiprogramme\",\"umsetzbare entscheidungen\",\"seehofer\",\"wahlprogramm 2021 soziales\",\"parteiprogramme\",\"technischer vergleich pkw-antrieb\",\"wahl o mat\",\"raus aus deutschland\",\"steuerpolitik  \\u00fcbersicht\",\"standpunkte der parteien zum thema\",\"krankenkasse\",\"parteiprogramm steuersenkungen\",\"parteien wahlprogramm aussenpolitik\",\"kriminalstatistik\",\"arbeit, wahlprogramm\",\"steuersenkungen\",\"usa, europa\",\"steuersenkung\",\"europa parteien\",\"aufnahmekriterien\",\"position parteien immigranten\",\"erh\\u00f6hung der pflegekr\\u00e4fte?\",\"corona\",\"finanzministerium\",\"pateien und ....\",\"fl\\u00fcchtiling\",\"impfzwang\",\"walprogramm\",\"wahl o mat\",\"wahl sozialpolitik\",\"digitales f\\u00fcr schule und beruf\",\"wahlomat\",\"sicherheit\",\"welche partei hat welche pl\\u00e4ne\",\"wahlprogramm\",\"mehr f\\u00fcr deutsche tun ,weniger f\\u00fcr die ausl\\u00e4nder\",\"corona, pflege\",\"migranten\",\"b\\u00f6rse\",\"wahlprogramm einer partei,evtl wahl-o-mat\",\"altersvorsorge  welche partei setzt sich ein\",\"netzausbau\",\"krankenkassen\",\"moderne welt\",\"international beziehungen\",\"apotheken umschau\",\"fl\\u00e4chendeckendes, schnelles internet\",\"wann wird es wieder h\\u00f6here preise geben\",\"wahlprogramm\",\"soziale gerechtigkeit\",\"stellenangebote\",\"umgang mit europa\",\"soziale fragen\",\"politik international\",\"au\\u00dfenpolitische parteisprecher\",\"thema steuer bundetagswahl partei\",\"wahlprogramm\",\"unabh\\u00e4ngige statistiken\",\"soziale netzwerke\",\"innenmenister\",\"neueste entwicklung\",\"digtal\",\"anzahl arbeitslose\",\"siehe vorherige antwort\",\"wahlprogramme der parteien\",\"parteien programm sicherheit\",\"wer k\\u00fcmmert sich um arbeit?\",\"einwanderer in deutschland\",\"6aakge und das geld zur verf\\u00fcgung zu schwer ist es nur f\\u00fcr mich\",\"parteiprogramme btw 2021\",\"wahlprogramme der parteien\",\"steuer\",\"netzabdeckung\",\"arbeit\",\"kriminelle politiker einsperren\",\"wald\",\"schulen in der n\\u00e4he\",\"wahlprogramm\",\"parteiprogramm au\\u00dfenpolitik + partei\",\"walomart\",\"einwanderer\",\"innenministerium\",\"aktien , boerse, sparen\",\"bundeswehr\",\"direkte frage an google\",\"arzt\",\"wahlprogramm zuzug\",\"verbrechen\",\"fl\\u00fcchtlinge\",\"polizei\",\"arbeitslose politik wahlen\",\"windr\\u00e4der\",\"wahlprogramme\",\"parteivergleich\",\"wer ist fuer steuererh\\u00f6hung\",\"stellenmarkt\",\"benachteiligung soziale herkunft\",\"arbeitslosenzahlen, anteil der 450\\u20ac jobs\",\"au\\u00dfenpolitik\",\"steuerbeschl\\u00fcsse der parteien\",\"usa\",\"pisa\",\"krankenkassen\",\"unterrichtsstoffe\",\"internationale beziehung deutschland\",\"gleiche gesetze f\\u00fcr alle b\\u00fcrger und unternehmen (quellsteuer)\",\"kriterien der parteien zum thema\",\"versprochene steuersenkungen\",\"netzleistung\",\"politisches wirtschafsversprechen der parteien\",\"schnelles internet\",\"au\\u00dfenministerium pl\\u00e4ne wahl2021\",\"pflegedienst\",\"welche partei ist f\\u00fcr digitaliesierung\",\"lehrer kommen aus welchen parteien\",\"europ\\u00e4ische union, zusammenarbeit usa, export\",\"corona\",\"wachstum\",\"vergleiche wahlprogramm parteien\",\"polizei nachrichten\",\"erh\\u00f6hung beitr\\u00e4ge krankenkassen\",\"innere sichherheit\",\"passende webseite\",\"arbeitslosenzahlen\",\"steuererleichterungen und steuererh\\u00f6hungen\",\"saudi-arabien au\\u00dfenpolitik\",\"wahlprogramm der einzelnen parteien\",\"standpunkt im wahlprogramm\",\"schule\",\"blidungspolitik\",\"steueren\",\"b\\u00f6rsenkurse, zahl der arbeitssuchenden und offene stellen\",\"l\\u00f6sungen der parteien zu dem thema\",\"siehe vorherige antwort\",\"kurzarbeiter-definition, investitionspolitik,\",\"einwanderer,\",\"aktuell.meine stadt.de\",\"migrationspolitik\",\"parteiprogramm\",\"usa,china\",\"zinsen, inflation, parteien, wahlprogramm, vergleich\",\"welche bundesl\\u00e4nder stehen bei diesem thema am besten da\",\"wahlprogramm\",\"wahlomat\",\"es ist offensichtlich, welche partei dazu programmatisch etwas erkl\\u00e4rt und tats\\u00e4chlich handelt - keine suche erforderlich\",\"parteiprogamme\",\"wahlprogramm\",\"wahl-o-mat\",\"robert koch institut\",\"freie arbeitsstellen in 2021.\",\"polizei\",\"welche internationalen beziehungen h\\u00e4lt deutschlan\",\"usa\",\"sicherheit\",\"eine partei die f\\u00fcr mich da ist\",\"welche partei passt zu mir\",\"welche partei setzt sich daf\\u00fcr ein\",\"geld\",\"parteien  konzept\",\"technologie\",\"e auto\",\"uno, nato\",\"wahlprogramm 2021\",\"statisches bundesamt\",\"annegret kramp\",\"parteiwebseiten\",\"internet ausbauen\",\"steuer programm wahlen\",\"stellenangebote,\",\"au\\u00dfenministerium\",\"steuervorteile\",\"corona\",\"wahl arbeit\",\"solarpanele\",\"programme der parteien zur migration\",\"legale steuerhinterziehung\",\"agentur f\\u00fcr arbeit,\",\"h\\u00f6chststeuersatz,\",\"partei steuerprogramme\",\"arbeistlosenstatistik arbeitslosengeld\",\"deutsche aussenpolitik\",\"welche partei tritt f\\u00fcr einen kostenlosen \\u00f6pnv ein\",\"wahl-o-mat\",\"krankenkassen\",\"terror\",\"pflegeberufe politik,\",\"wahl-o-mat\",\"sicherheit digital\",\"parteiprogramme\",\"parteiprogramm der parteien\",\"einheitliche schulen\",\"statistisches bundesamt\",\"beziehungen deutschland eu, amerika\",\"wahlprogramme 2021\",\"wie sieht es zu beziehungen z.b. mit polen, ungarn aus?\",\"bilaterale fortschritte unter merkel regierung\",\"zuwanderung\",\"bundes\",\"parteiprogram\",\"wahlprogramm innenpolitik\",\"polizei\",\"steuer class\",\"jobbau\",\"wahlomat\",\"wahl-o-mat\",\"planung zur finanzierung das system zu tragen.\",\"finanzamt\",\"autobahnh\\u00f6chstgeschwindigkeit\",\"wahlprogramm sicherheit\",\"ausstattung und vernetzung von beh\\u00f6eden\",\"auslandspolitik\",\"differenzen in der eu\",\"handel\",\"ausgaben 2000-2020\",\"digitale inhalte schule\",\"wer sind die jetzigen schulminister\",\"merz\",\"kindergeld\",\"programm der parteien bez\\u00fcglich gesund\",\"steuergerechtigkeit\",\"auslandspolitik 21\",\"soziales\",\"wahlomat\",\"pflegereform, krankenkassenvergleich\",\"wahlprogramm\",\"derfreitag + bl\\u00e4tter f\\u00fcr deutsche und internationale politik\",\"parteiprogramme\",\"schulen\",\"krankenkasse vergleich\",\"abgaben\",\"steuererh\\u00f6hung kommt immer nach wahlen\",\"wal-o-mat\",\"kriminalstatistik\",\"parteiprogramm\",\"wie hoch ist die aktuelle verschuldung und wie ist das konzept vini xx\",\"finanzmarkt, effizienz und konsum.\",\"nach den t\\u00e4glichen morden durch uns fremde kulturen\",\"sicherheit\",\"real digitaler wandel\",\"themen en\",\"deutschland usa\",\"abgase von fabriken\",\"welche partei daf\\u00fcr spricht\",\"kassenbeitr\\u00e4ge\",\"finanz-welten\",\"covid\",\"netzausbau\",\"schulbesuch\",\"erkl\\u00e4rung finanzhaushalt\",\"die wahlprogramme der parteien ansehen.\",\"\\u00f6ffentliche sicherheit\",\"b\\u00fcndnisse, nato,\",\"wahlomat\",\"wahlprogramm\",\"parteiprogramm\",\"covid 19, fachkr\\u00e4ftemangel, statista, rki\",\"nichts da wir die welt alleine nicht retten k\\u00f6nnen\",\"wahlomat vergleich\",\"bundesanzeiger\",\"rt, nachdenkseiten, china, usa, russland, ...\",\"steuer 2021\",\"wahlomat\",\"entwicklungen arbeit\",\"wahl aufkl\\u00e4rungsquote\",\"aktuelle politik\",\"migrationspakt\",\"steuerversprechungen\",\"krankenversicherung\",\"afghanistan\",\"erst recht nichts das ist ein thema was mich \\u00fcberhaupt nicht interessiert. wir haben in unserem land genug eigene probleme. mich nimmt auch keiner auf wenn es hier mal eng wird\",\"wahlomat\",\"tempolimit autobahn\",\"progressionsvorbehalt\",\"unwetter\",\"migration,antisemitismus\",\"wahlomat\",\"polizei\",\"wahlomat\",\"cannabis\",\"wahl-o-mat\",\"wahlomat\",\"wahlprogramm\",\"sicherheit in deutschland\",\"wahlomat\",\"auslandverbindungen,staatschulden\",\"nationale und internationale presse\",\"erderw\\u00e4rmung\",\"haushalt\",\"steuerpolitik\",\"digutalisierung wahl\",\"rentner\",\"programme der parteien\",\"ich sehe mier die jeweiligen parteien an.\",\"arbeitsministerium\",\"zile der partein\",\"e-auto\",\"cum ex\",\"fl\\u00fcchtlinge\",\"wahl-o-mat\",\"wahlomat\",\"parteiprogramm polizeirechte\",\"karl lauterbach\",\"arbeitspl\\u00e4tze sichern\",\"wahlprogramm partei co2\",\"beh\\u00f6rdenfinder\",\"au\\u00dfengrenzen eu frontex wahlprogramme\",\"angebote anderer\",\"wahl-o-mat\",\"gesunde ern\\u00e4hrung\",\"w\\u00e4hl o mat\",\"thema naturschutz\",\"schwach\",\"steuererh\\u00f6hung\",\"corona\",\"handelsblatt\",\"wahlomat,parteieb\",\"sicherheit parteien\",\"breitbandausbau, netzdichte\",\"sicherheit in deutschland\",\"bundesministerien, parteien, interviews\",\"wer plant welche finanzielle unterst\\u00fctzung f\\u00fcr kleine unternehmen, die unter corona leiden, hilfe f\\u00fcr flutopfer, welche partei steht f\\u00fcr welchen umgang mit afghanistan\",\"corona\",\"leckt mich doch, ihr dummen s\\u00e4ue.\",\"suche arbeit\",\"arbeitsminister, arbeitsamt ..\",\"eu\",\"wahl-omat, wahlprogramme\",\"international\",\"wahlprogramme\",\"wahlprogramm der parteien\",\"mindestlohn parteien\",\"was genehmigen die krankenkassen\",\"altersversorgung parteiprogramm\",\"covid\",\"kriminalstatistik\",\"kriminalstatistik 2021\",\"sicherheitssystem\",\"welche partei geht wie mit einwanderern und?\",\"vereinheitlichung\",\"statistik website und handelsblatt\",\"moslemisten verwammsen polizisten\",\"geplante zinsen f\\u00fcr sparer\",\"parteiprogramme\",\"wahlprogramm [partei xy]\",\"ausl\\u00e4nder\",\"wahlomad\",\"wahlprogramme soziales\",\"parteiprogramme\",\"parteiprogramm sicherheit partei xy\",\"polizei\",\"aussenpolitik\",\"verbrechen der politik\",\"l\\u00f6hne\",\"schulprogramme\",\"arbeit\",\"position der parteien\",\"wahlprogramme 2021 hartz4\",\"wahl-o-mat\",\"wahlomat\",\"stellenangebote\",\"wahlprogramm xxx\",\"fl\\u00fcchtlinge\",\"chancen f\\u00fcr berufliche integration von gefl\\u00fcchteten\",\"digitalisieren\",\"pflege der deutschen sprache\",\"soziales\",\"gegen das volk\",\"global wahl\",\"wahlomat\",\"parteiprogramm\",\"aktuelle kriminalstatistik\",\"k\\u00e4lter krieg\",\"arbeitslosenhilfe\",\"einkommenssteuersatz\",\"statistik\",\"ausl\\u00e4nder kriminalitet\",\"parteiprogramme\",\"verm\\u00f6genssteuer\",\"welche partei m\\u00f6chte f\\u00fcr sicherheit sorgen?\",\"infrastruktur,schule,\",\"wahlprogramm partei migrationspolitik\",\"bundesfinanzministerium\",\"kriminalstatistik 2020\",\"green\",\"b\\u00fcrokratie-abbau, schnelligkeit beim beh\\u00f6rden-gang\",\"\\u00f6pv\",\"internationale einstellung\",\"niedrigerer steuersatz\",\"arbeitslosenquote\",\"verbrechen von ausl\\u00e4ndern\",\"wahlomat\",\"wahlprogramm\",\"wahlprogramme\",\"parteiprogramme au\\u00dfenpolitik\",\"wahlprogramme\",\"agentur f\\u00fcr arbeit, wahlprogramme\",\"wahlomat\",\"wahlversprechen 2021\",\"rki pei ema divi\",\"steuererh\\u00f6hung\",\"wie die kandidaten planen, die steuer zu senken oder erh\\u00f6hen?\",\"zukunft des lernens\",\"internetseite einer zeitung oder eines ministeriums, internationale organisationen\",\"wahlprogramm parteien\",\"afrika\",\"totenh\\u00f6fer\",\"schule\",\"ist corona sehr t\\u00f6dlich\",\"steuersatz\",\"arbeitslosenzahlen\",\"wahlprogramme\",\"parteien abreitsmarkt\",\"einbr\\u00fcche\",\"automatisierung\",\"parteiprogramme\",\"russland\",\"wahlprogramm sicherheit\",\"notwendigkeiten der internationalen beziehungen\",\"europ\\u00e4ische union\",\"parteiprogramme\",\"wahl o mat\",\"atomstrom\"],\"x\":{\"__ndarray__\":\"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\",\"dtype\":\"float32\",\"order\":\"little\",\"shape\":[1751]},\"y\":{\"__ndarray__\":\"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\",\"dtype\":\"float32\",\"order\":\"little\",\"shape\":[1751]}},\"selected\":{\"id\":\"1211\"},\"selection_policy\":{\"id\":\"1210\"}},\"id\":\"1202\",\"type\":\"ColumnDataSource\"},{\"attributes\":{\"callback\":null,\"renderers\":[{\"id\":\"1207\"}],\"tooltips\":[[\"query\",\"@query\"]]},\"id\":\"1215\",\"type\":\"HoverTool\"},{\"attributes\":{},\"id\":\"1183\",\"type\":\"DataRange1d\"},{\"attributes\":{},\"id\":\"1211\",\"type\":\"Selection\"},{\"attributes\":{},\"id\":\"1185\",\"type\":\"LinearScale\"},{\"attributes\":{\"overlay\":{\"id\":\"1194\"}},\"id\":\"1191\",\"type\":\"BoxZoomTool\"},{\"attributes\":{\"factors\":[\"10\",\"8\",\"7\",\"13\",\"15\",\"2\",\"4\",\"16\",\"18\",\"6\",\"1\",\"9\",\"17\",\"14\",\"3\",\"11\",\"0\",\"19\",\"12\",\"5\"],\"palette\":[\"#1f77b4\",\"#aec7e8\",\"#ff7f0e\",\"#ffbb78\",\"#2ca02c\",\"#98df8a\",\"#d62728\",\"#ff9896\",\"#9467bd\",\"#c5b0d5\",\"#8c564b\",\"#c49c94\",\"#e377c2\",\"#f7b6d2\",\"#7f7f7f\",\"#c7c7c7\",\"#bcbd22\",\"#dbdb8d\",\"#17becf\",\"#9edae5\"]},\"id\":\"1201\",\"type\":\"CategoricalColorMapper\"},{\"attributes\":{\"coordinates\":null,\"group\":null,\"text\":\"Clustered search queries from survey\"},\"id\":\"1179\",\"type\":\"Title\"},{\"attributes\":{},\"id\":\"1181\",\"type\":\"DataRange1d\"},{\"attributes\":{\"label\":{\"value\":\"Example query per cluster\"},\"renderers\":[{\"id\":\"1207\"}]},\"id\":\"1214\",\"type\":\"LegendItem\"},{\"attributes\":{},\"id\":\"1187\",\"type\":\"LinearScale\"},{\"attributes\":{\"coordinates\":null,\"data_source\":{\"id\":\"1202\"},\"glyph\":{\"id\":\"1204\"},\"group\":null,\"hover_glyph\":null,\"muted_glyph\":{\"id\":\"1206\"},\"nonselection_glyph\":{\"id\":\"1205\"},\"view\":{\"id\":\"1208\"}},\"id\":\"1207\",\"type\":\"GlyphRenderer\"},{\"attributes\":{},\"id\":\"1190\",\"type\":\"WheelZoomTool\"},{\"attributes\":{},\"id\":\"1189\",\"type\":\"PanTool\"},{\"attributes\":{\"coordinates\":null,\"group\":null,\"items\":[{\"id\":\"1214\"}]},\"id\":\"1213\",\"type\":\"Legend\"},{\"attributes\":{\"tools\":[{\"id\":\"1189\"},{\"id\":\"1190\"},{\"id\":\"1191\"},{\"id\":\"1192\"},{\"id\":\"1193\"},{\"id\":\"1215\"}]},\"id\":\"1195\",\"type\":\"Toolbar\"},{\"attributes\":{\"fill_alpha\":{\"value\":0.2},\"fill_color\":{\"field\":\"labels\",\"transform\":{\"id\":\"1201\"}},\"hatch_alpha\":{\"value\":0.2},\"hatch_color\":{\"field\":\"labels\",\"transform\":{\"id\":\"1201\"}},\"line_alpha\":{\"value\":0.2},\"line_color\":{\"field\":\"labels\",\"transform\":{\"id\":\"1201\"}},\"x\":{\"field\":\"x\"},\"y\":{\"field\":\"y\"}},\"id\":\"1206\",\"type\":\"Scatter\"}],\"root_ids\":[\"1178\"]},\"title\":\"Bokeh Application\",\"version\":\"2.4.3\"}};\n  const render_items = [{\"docid\":\"a7679fcc-234f-4f96-adb2-26b15281c3c3\",\"root_ids\":[\"1178\"],\"roots\":{\"1178\":\"128f8e79-0c5a-4a96-a783-ce3bd8590f62\"}}];\n  root.Bokeh.embed.embed_items_notebook(docs_json, render_items);\n  }\n  if (root.Bokeh !== undefined) {\n    embed_document(root);\n  } else {\n    let attempts = 0;\n    const timer = setInterval(function(root) {\n      if (root.Bokeh !== undefined) {\n        clearInterval(timer);\n        embed_document(root);\n      } else {\n        attempts++;\n        if (attempts > 100) {\n          clearInterval(timer);\n          console.log(\"Bokeh: ERROR: Unable to run BokehJS code because BokehJS library is missing\");\n        }\n      }\n    }, 10, root)\n  }\n})(window);",
            "application/vnd.bokehjs_exec.v0+json": ""
          },
          "metadata": {
            "application/vnd.bokehjs_exec.v0+json": {
              "id": "1178"
            }
          },
          "output_type": "display_data"
        }
      ],
      "source": [
        "# plotting the corresponding word appears when you hover on the data point.\n",
        "output_notebook()\n",
        "plot_survey = bp.figure(plot_width=1500, plot_height=1000, title=\"Clustered search queries from survey\",\n",
        "                        tools=\"pan,wheel_zoom,box_zoom,reset,save\",\n",
        "                        x_axis_type=None, y_axis_type=None, min_border=1)\n",
        "\n",
        "# transform embeddings dimensions from 768 to 2 using t-SNE for visualization\n",
        "tsne_data = TSNE(n_components=2, random_state=42).fit_transform(embeddings)\n",
        "result = pd.DataFrame(tsne_data, columns=['x', 'y'])\n",
        "\n",
        "# set labels according to k-means clusters\n",
        "result['labels_num'] = clustering_model.labels_\n",
        "result['labels'] = result['labels_num'].astype(str)\n",
        "# set queries according to actual data\n",
        "result['query'] = list(survey_data[\"query\"])\n",
        "\n",
        "palette = d3['Category20'][len(result['labels'].unique())]\n",
        "color_map = bmo.CategoricalColorMapper(factors=result['labels'].unique(), palette=palette)\n",
        "\n",
        "# draw single data points into the plot\n",
        "plot_single = plot_survey.scatter(x='x', y='y',\n",
        "                                  color={'field': 'labels', 'transform': color_map},\n",
        "                                  size=4,\n",
        "                                  alpha=0.8,\n",
        "                                  source=result,\n",
        "                                  legend_label=\"Example query per cluster\")\n",
        "\n",
        "plot_survey.add_tools(HoverTool(renderers=[plot_single], tooltips=[(\"query\", \"@query\")]))\n",
        "\n",
        "show(plot_survey)"
      ]
    },
    {
      "cell_type": "code",
      "execution_count": 22,
      "metadata": {
        "colab": {
          "base_uri": "https://localhost:8080/",
          "height": 424
        },
        "id": "k7hMw-05q99X",
        "outputId": "9c206b87-b387-40e6-e5a9-bcb2add31bbd"
      },
      "outputs": [
        {
          "data": {
            "text/html": [
              "\n",
              "\n",
              "  <div id=\"df-2ef0431f-1c56-45bb-b563-a51120c1490a\">\n",
              "    <div class=\"colab-df-container\">\n",
              "      <div>\n",
              "<style scoped>\n",
              "    .dataframe tbody tr th:only-of-type {\n",
              "        vertical-align: middle;\n",
              "    }\n",
              "\n",
              "    .dataframe tbody tr th {\n",
              "        vertical-align: top;\n",
              "    }\n",
              "\n",
              "    .dataframe thead th {\n",
              "        text-align: right;\n",
              "    }\n",
              "</style>\n",
              "<table border=\"1\" class=\"dataframe\">\n",
              "  <thead>\n",
              "    <tr style=\"text-align: right;\">\n",
              "      <th></th>\n",
              "      <th>x</th>\n",
              "      <th>y</th>\n",
              "      <th>labels_num</th>\n",
              "      <th>labels</th>\n",
              "      <th>query</th>\n",
              "    </tr>\n",
              "  </thead>\n",
              "  <tbody>\n",
              "    <tr>\n",
              "      <th>0</th>\n",
              "      <td>47.446842</td>\n",
              "      <td>-26.730476</td>\n",
              "      <td>10</td>\n",
              "      <td>10</td>\n",
              "      <td>wahlomat über goole.de</td>\n",
              "    </tr>\n",
              "    <tr>\n",
              "      <th>1</th>\n",
              "      <td>-43.129475</td>\n",
              "      <td>16.494520</td>\n",
              "      <td>8</td>\n",
              "      <td>8</td>\n",
              "      <td>partei sicherheit</td>\n",
              "    </tr>\n",
              "    <tr>\n",
              "      <th>2</th>\n",
              "      <td>-23.087694</td>\n",
              "      <td>-13.500840</td>\n",
              "      <td>10</td>\n",
              "      <td>10</td>\n",
              "      <td>die linke</td>\n",
              "    </tr>\n",
              "    <tr>\n",
              "      <th>3</th>\n",
              "      <td>-0.601526</td>\n",
              "      <td>27.364439</td>\n",
              "      <td>10</td>\n",
              "      <td>10</td>\n",
              "      <td>wahlinhalte</td>\n",
              "    </tr>\n",
              "    <tr>\n",
              "      <th>4</th>\n",
              "      <td>57.724289</td>\n",
              "      <td>40.190193</td>\n",
              "      <td>7</td>\n",
              "      <td>7</td>\n",
              "      <td>wahl-o-mat + deinwal</td>\n",
              "    </tr>\n",
              "    <tr>\n",
              "      <th>...</th>\n",
              "      <td>...</td>\n",
              "      <td>...</td>\n",
              "      <td>...</td>\n",
              "      <td>...</td>\n",
              "      <td>...</td>\n",
              "    </tr>\n",
              "    <tr>\n",
              "      <th>1746</th>\n",
              "      <td>-26.438135</td>\n",
              "      <td>2.975945</td>\n",
              "      <td>18</td>\n",
              "      <td>18</td>\n",
              "      <td>notwendigkeiten der internationalen beziehungen</td>\n",
              "    </tr>\n",
              "    <tr>\n",
              "      <th>1747</th>\n",
              "      <td>-44.053589</td>\n",
              "      <td>8.732922</td>\n",
              "      <td>10</td>\n",
              "      <td>10</td>\n",
              "      <td>europäische union</td>\n",
              "    </tr>\n",
              "    <tr>\n",
              "      <th>1748</th>\n",
              "      <td>-8.756924</td>\n",
              "      <td>-29.698051</td>\n",
              "      <td>15</td>\n",
              "      <td>15</td>\n",
              "      <td>parteiprogramme</td>\n",
              "    </tr>\n",
              "    <tr>\n",
              "      <th>1749</th>\n",
              "      <td>21.096962</td>\n",
              "      <td>41.179817</td>\n",
              "      <td>17</td>\n",
              "      <td>17</td>\n",
              "      <td>wahl o mat</td>\n",
              "    </tr>\n",
              "    <tr>\n",
              "      <th>1750</th>\n",
              "      <td>-15.022350</td>\n",
              "      <td>30.413332</td>\n",
              "      <td>10</td>\n",
              "      <td>10</td>\n",
              "      <td>atomstrom</td>\n",
              "    </tr>\n",
              "  </tbody>\n",
              "</table>\n",
              "<p>1751 rows × 5 columns</p>\n",
              "</div>\n",
              "      <button class=\"colab-df-convert\" onclick=\"convertToInteractive('df-2ef0431f-1c56-45bb-b563-a51120c1490a')\"\n",
              "              title=\"Convert this dataframe to an interactive table.\"\n",
              "              style=\"display:none;\">\n",
              "\n",
              "  <svg xmlns=\"http://www.w3.org/2000/svg\" height=\"24px\"viewBox=\"0 0 24 24\"\n",
              "       width=\"24px\">\n",
              "    <path d=\"M0 0h24v24H0V0z\" fill=\"none\"/>\n",
              "    <path d=\"M18.56 5.44l.94 2.06.94-2.06 2.06-.94-2.06-.94-.94-2.06-.94 2.06-2.06.94zm-11 1L8.5 8.5l.94-2.06 2.06-.94-2.06-.94L8.5 2.5l-.94 2.06-2.06.94zm10 10l.94 2.06.94-2.06 2.06-.94-2.06-.94-.94-2.06-.94 2.06-2.06.94z\"/><path d=\"M17.41 7.96l-1.37-1.37c-.4-.4-.92-.59-1.43-.59-.52 0-1.04.2-1.43.59L10.3 9.45l-7.72 7.72c-.78.78-.78 2.05 0 2.83L4 21.41c.39.39.9.59 1.41.59.51 0 1.02-.2 1.41-.59l7.78-7.78 2.81-2.81c.8-.78.8-2.07 0-2.86zM5.41 20L4 18.59l7.72-7.72 1.47 1.35L5.41 20z\"/>\n",
              "  </svg>\n",
              "      </button>\n",
              "\n",
              "\n",
              "\n",
              "    <div id=\"df-f00802ac-3674-46e8-84d2-c51318080776\">\n",
              "      <button class=\"colab-df-quickchart\" onclick=\"quickchart('df-f00802ac-3674-46e8-84d2-c51318080776')\"\n",
              "              title=\"Suggest charts.\"\n",
              "              style=\"display:none;\">\n",
              "\n",
              "<svg xmlns=\"http://www.w3.org/2000/svg\" height=\"24px\"viewBox=\"0 0 24 24\"\n",
              "     width=\"24px\">\n",
              "    <g>\n",
              "        <path d=\"M19 3H5c-1.1 0-2 .9-2 2v14c0 1.1.9 2 2 2h14c1.1 0 2-.9 2-2V5c0-1.1-.9-2-2-2zM9 17H7v-7h2v7zm4 0h-2V7h2v10zm4 0h-2v-4h2v4z\"/>\n",
              "    </g>\n",
              "</svg>\n",
              "      </button>\n",
              "    </div>\n",
              "\n",
              "<style>\n",
              "  .colab-df-quickchart {\n",
              "    background-color: #E8F0FE;\n",
              "    border: none;\n",
              "    border-radius: 50%;\n",
              "    cursor: pointer;\n",
              "    display: none;\n",
              "    fill: #1967D2;\n",
              "    height: 32px;\n",
              "    padding: 0 0 0 0;\n",
              "    width: 32px;\n",
              "  }\n",
              "\n",
              "  .colab-df-quickchart:hover {\n",
              "    background-color: #E2EBFA;\n",
              "    box-shadow: 0px 1px 2px rgba(60, 64, 67, 0.3), 0px 1px 3px 1px rgba(60, 64, 67, 0.15);\n",
              "    fill: #174EA6;\n",
              "  }\n",
              "\n",
              "  [theme=dark] .colab-df-quickchart {\n",
              "    background-color: #3B4455;\n",
              "    fill: #D2E3FC;\n",
              "  }\n",
              "\n",
              "  [theme=dark] .colab-df-quickchart:hover {\n",
              "    background-color: #434B5C;\n",
              "    box-shadow: 0px 1px 3px 1px rgba(0, 0, 0, 0.15);\n",
              "    filter: drop-shadow(0px 1px 2px rgba(0, 0, 0, 0.3));\n",
              "    fill: #FFFFFF;\n",
              "  }\n",
              "</style>\n",
              "\n",
              "    <script>\n",
              "      async function quickchart(key) {\n",
              "        const containerElement = document.querySelector('#' + key);\n",
              "        const charts = await google.colab.kernel.invokeFunction(\n",
              "            'suggestCharts', [key], {});\n",
              "      }\n",
              "    </script>\n",
              "\n",
              "      <script>\n",
              "\n",
              "function displayQuickchartButton(domScope) {\n",
              "  let quickchartButtonEl =\n",
              "    domScope.querySelector('#df-f00802ac-3674-46e8-84d2-c51318080776 button.colab-df-quickchart');\n",
              "  quickchartButtonEl.style.display =\n",
              "    google.colab.kernel.accessAllowed ? 'block' : 'none';\n",
              "}\n",
              "\n",
              "        displayQuickchartButton(document);\n",
              "      </script>\n",
              "      <style>\n",
              "    .colab-df-container {\n",
              "      display:flex;\n",
              "      flex-wrap:wrap;\n",
              "      gap: 12px;\n",
              "    }\n",
              "\n",
              "    .colab-df-convert {\n",
              "      background-color: #E8F0FE;\n",
              "      border: none;\n",
              "      border-radius: 50%;\n",
              "      cursor: pointer;\n",
              "      display: none;\n",
              "      fill: #1967D2;\n",
              "      height: 32px;\n",
              "      padding: 0 0 0 0;\n",
              "      width: 32px;\n",
              "    }\n",
              "\n",
              "    .colab-df-convert:hover {\n",
              "      background-color: #E2EBFA;\n",
              "      box-shadow: 0px 1px 2px rgba(60, 64, 67, 0.3), 0px 1px 3px 1px rgba(60, 64, 67, 0.15);\n",
              "      fill: #174EA6;\n",
              "    }\n",
              "\n",
              "    [theme=dark] .colab-df-convert {\n",
              "      background-color: #3B4455;\n",
              "      fill: #D2E3FC;\n",
              "    }\n",
              "\n",
              "    [theme=dark] .colab-df-convert:hover {\n",
              "      background-color: #434B5C;\n",
              "      box-shadow: 0px 1px 3px 1px rgba(0, 0, 0, 0.15);\n",
              "      filter: drop-shadow(0px 1px 2px rgba(0, 0, 0, 0.3));\n",
              "      fill: #FFFFFF;\n",
              "    }\n",
              "  </style>\n",
              "\n",
              "      <script>\n",
              "        const buttonEl =\n",
              "          document.querySelector('#df-2ef0431f-1c56-45bb-b563-a51120c1490a button.colab-df-convert');\n",
              "        buttonEl.style.display =\n",
              "          google.colab.kernel.accessAllowed ? 'block' : 'none';\n",
              "\n",
              "        async function convertToInteractive(key) {\n",
              "          const element = document.querySelector('#df-2ef0431f-1c56-45bb-b563-a51120c1490a');\n",
              "          const dataTable =\n",
              "            await google.colab.kernel.invokeFunction('convertToInteractive',\n",
              "                                                     [key], {});\n",
              "          if (!dataTable) return;\n",
              "\n",
              "          const docLinkHtml = 'Like what you see? Visit the ' +\n",
              "            '<a target=\"_blank\" href=https://colab.research.google.com/notebooks/data_table.ipynb>data table notebook</a>'\n",
              "            + ' to learn more about interactive tables.';\n",
              "          element.innerHTML = '';\n",
              "          dataTable['output_type'] = 'display_data';\n",
              "          await google.colab.output.renderOutput(dataTable, element);\n",
              "          const docLink = document.createElement('div');\n",
              "          docLink.innerHTML = docLinkHtml;\n",
              "          element.appendChild(docLink);\n",
              "        }\n",
              "      </script>\n",
              "    </div>\n",
              "  </div>\n"
            ],
            "text/plain": [
              "              x          y  labels_num labels  \\\n",
              "0     47.446842 -26.730476          10     10   \n",
              "1    -43.129475  16.494520           8      8   \n",
              "2    -23.087694 -13.500840          10     10   \n",
              "3     -0.601526  27.364439          10     10   \n",
              "4     57.724289  40.190193           7      7   \n",
              "...         ...        ...         ...    ...   \n",
              "1746 -26.438135   2.975945          18     18   \n",
              "1747 -44.053589   8.732922          10     10   \n",
              "1748  -8.756924 -29.698051          15     15   \n",
              "1749  21.096962  41.179817          17     17   \n",
              "1750 -15.022350  30.413332          10     10   \n",
              "\n",
              "                                                query  \n",
              "0                              wahlomat über goole.de  \n",
              "1                                   partei sicherheit  \n",
              "2                                           die linke  \n",
              "3                                         wahlinhalte  \n",
              "4                                wahl-o-mat + deinwal  \n",
              "...                                               ...  \n",
              "1746  notwendigkeiten der internationalen beziehungen  \n",
              "1747                                europäische union  \n",
              "1748                                  parteiprogramme  \n",
              "1749                                       wahl o mat  \n",
              "1750                                        atomstrom  \n",
              "\n",
              "[1751 rows x 5 columns]"
            ]
          },
          "execution_count": 22,
          "metadata": {},
          "output_type": "execute_result"
        }
      ],
      "source": [
        "result"
      ]
    },
    {
      "cell_type": "code",
      "execution_count": null,
      "metadata": {
        "id": "kllUgVh_rAMg"
      },
      "outputs": [],
      "source": []
    }
  ],
  "metadata": {
    "accelerator": "GPU",
    "colab": {
      "provenance": [],
      "toc_visible": true
    },
    "kernelspec": {
      "display_name": "Python 3",
      "name": "python3"
    },
    "language_info": {
      "name": "python"
    },
    "widgets": {
      "application/vnd.jupyter.widget-state+json": {
        "0ff2ee166ff7413cb408144262ba0c00": {
          "model_module": "@jupyter-widgets/controls",
          "model_module_version": "1.5.0",
          "model_name": "DescriptionStyleModel",
          "state": {
            "_model_module": "@jupyter-widgets/controls",
            "_model_module_version": "1.5.0",
            "_model_name": "DescriptionStyleModel",
            "_view_count": null,
            "_view_module": "@jupyter-widgets/base",
            "_view_module_version": "1.2.0",
            "_view_name": "StyleView",
            "description_width": ""
          }
        },
        "1cd33884877e45eaa28c866b280e54d9": {
          "model_module": "@jupyter-widgets/controls",
          "model_module_version": "1.5.0",
          "model_name": "ProgressStyleModel",
          "state": {
            "_model_module": "@jupyter-widgets/controls",
            "_model_module_version": "1.5.0",
            "_model_name": "ProgressStyleModel",
            "_view_count": null,
            "_view_module": "@jupyter-widgets/base",
            "_view_module_version": "1.2.0",
            "_view_name": "StyleView",
            "bar_color": null,
            "description_width": ""
          }
        },
        "4b93d0aa35a547b48c6911eed2e52a8f": {
          "model_module": "@jupyter-widgets/controls",
          "model_module_version": "1.5.0",
          "model_name": "HBoxModel",
          "state": {
            "_dom_classes": [],
            "_model_module": "@jupyter-widgets/controls",
            "_model_module_version": "1.5.0",
            "_model_name": "HBoxModel",
            "_view_count": null,
            "_view_module": "@jupyter-widgets/controls",
            "_view_module_version": "1.5.0",
            "_view_name": "HBoxView",
            "box_style": "",
            "children": [
              "IPY_MODEL_c91d8543f8d547ecbfadb49451ba05b1",
              "IPY_MODEL_ccfa7898863440fe8242de935130dfd4",
              "IPY_MODEL_aea7d413899b4bf3abf8d0047feebccd"
            ],
            "layout": "IPY_MODEL_f6fd0c796bd04384a74b565a0f40f9cd"
          }
        },
        "54a8f69a096942aca5367aefd8b25429": {
          "model_module": "@jupyter-widgets/base",
          "model_module_version": "1.2.0",
          "model_name": "LayoutModel",
          "state": {
            "_model_module": "@jupyter-widgets/base",
            "_model_module_version": "1.2.0",
            "_model_name": "LayoutModel",
            "_view_count": null,
            "_view_module": "@jupyter-widgets/base",
            "_view_module_version": "1.2.0",
            "_view_name": "LayoutView",
            "align_content": null,
            "align_items": null,
            "align_self": null,
            "border": null,
            "bottom": null,
            "display": null,
            "flex": null,
            "flex_flow": null,
            "grid_area": null,
            "grid_auto_columns": null,
            "grid_auto_flow": null,
            "grid_auto_rows": null,
            "grid_column": null,
            "grid_gap": null,
            "grid_row": null,
            "grid_template_areas": null,
            "grid_template_columns": null,
            "grid_template_rows": null,
            "height": null,
            "justify_content": null,
            "justify_items": null,
            "left": null,
            "margin": null,
            "max_height": null,
            "max_width": null,
            "min_height": null,
            "min_width": null,
            "object_fit": null,
            "object_position": null,
            "order": null,
            "overflow": null,
            "overflow_x": null,
            "overflow_y": null,
            "padding": null,
            "right": null,
            "top": null,
            "visibility": null,
            "width": null
          }
        },
        "aa64f0c3e90f4b90b4a37fbb30e3305a": {
          "model_module": "@jupyter-widgets/base",
          "model_module_version": "1.2.0",
          "model_name": "LayoutModel",
          "state": {
            "_model_module": "@jupyter-widgets/base",
            "_model_module_version": "1.2.0",
            "_model_name": "LayoutModel",
            "_view_count": null,
            "_view_module": "@jupyter-widgets/base",
            "_view_module_version": "1.2.0",
            "_view_name": "LayoutView",
            "align_content": null,
            "align_items": null,
            "align_self": null,
            "border": null,
            "bottom": null,
            "display": null,
            "flex": null,
            "flex_flow": null,
            "grid_area": null,
            "grid_auto_columns": null,
            "grid_auto_flow": null,
            "grid_auto_rows": null,
            "grid_column": null,
            "grid_gap": null,
            "grid_row": null,
            "grid_template_areas": null,
            "grid_template_columns": null,
            "grid_template_rows": null,
            "height": null,
            "justify_content": null,
            "justify_items": null,
            "left": null,
            "margin": null,
            "max_height": null,
            "max_width": null,
            "min_height": null,
            "min_width": null,
            "object_fit": null,
            "object_position": null,
            "order": null,
            "overflow": null,
            "overflow_x": null,
            "overflow_y": null,
            "padding": null,
            "right": null,
            "top": null,
            "visibility": null,
            "width": null
          }
        },
        "aea7d413899b4bf3abf8d0047feebccd": {
          "model_module": "@jupyter-widgets/controls",
          "model_module_version": "1.5.0",
          "model_name": "HTMLModel",
          "state": {
            "_dom_classes": [],
            "_model_module": "@jupyter-widgets/controls",
            "_model_module_version": "1.5.0",
            "_model_name": "HTMLModel",
            "_view_count": null,
            "_view_module": "@jupyter-widgets/controls",
            "_view_module_version": "1.5.0",
            "_view_name": "HTMLView",
            "description": "",
            "description_tooltip": null,
            "layout": "IPY_MODEL_dd299daaa64c437380fe887acb5b85ea",
            "placeholder": "​",
            "style": "IPY_MODEL_b4d2c4d4dce54c22a076ca217dda85aa",
            "value": " 55/55 [00:01&lt;00:00, 59.28it/s]"
          }
        },
        "b4d2c4d4dce54c22a076ca217dda85aa": {
          "model_module": "@jupyter-widgets/controls",
          "model_module_version": "1.5.0",
          "model_name": "DescriptionStyleModel",
          "state": {
            "_model_module": "@jupyter-widgets/controls",
            "_model_module_version": "1.5.0",
            "_model_name": "DescriptionStyleModel",
            "_view_count": null,
            "_view_module": "@jupyter-widgets/base",
            "_view_module_version": "1.2.0",
            "_view_name": "StyleView",
            "description_width": ""
          }
        },
        "c91d8543f8d547ecbfadb49451ba05b1": {
          "model_module": "@jupyter-widgets/controls",
          "model_module_version": "1.5.0",
          "model_name": "HTMLModel",
          "state": {
            "_dom_classes": [],
            "_model_module": "@jupyter-widgets/controls",
            "_model_module_version": "1.5.0",
            "_model_name": "HTMLModel",
            "_view_count": null,
            "_view_module": "@jupyter-widgets/controls",
            "_view_module_version": "1.5.0",
            "_view_name": "HTMLView",
            "description": "",
            "description_tooltip": null,
            "layout": "IPY_MODEL_54a8f69a096942aca5367aefd8b25429",
            "placeholder": "​",
            "style": "IPY_MODEL_0ff2ee166ff7413cb408144262ba0c00",
            "value": "Batches: 100%"
          }
        },
        "ccfa7898863440fe8242de935130dfd4": {
          "model_module": "@jupyter-widgets/controls",
          "model_module_version": "1.5.0",
          "model_name": "FloatProgressModel",
          "state": {
            "_dom_classes": [],
            "_model_module": "@jupyter-widgets/controls",
            "_model_module_version": "1.5.0",
            "_model_name": "FloatProgressModel",
            "_view_count": null,
            "_view_module": "@jupyter-widgets/controls",
            "_view_module_version": "1.5.0",
            "_view_name": "ProgressView",
            "bar_style": "success",
            "description": "",
            "description_tooltip": null,
            "layout": "IPY_MODEL_aa64f0c3e90f4b90b4a37fbb30e3305a",
            "max": 55,
            "min": 0,
            "orientation": "horizontal",
            "style": "IPY_MODEL_1cd33884877e45eaa28c866b280e54d9",
            "value": 55
          }
        },
        "dd299daaa64c437380fe887acb5b85ea": {
          "model_module": "@jupyter-widgets/base",
          "model_module_version": "1.2.0",
          "model_name": "LayoutModel",
          "state": {
            "_model_module": "@jupyter-widgets/base",
            "_model_module_version": "1.2.0",
            "_model_name": "LayoutModel",
            "_view_count": null,
            "_view_module": "@jupyter-widgets/base",
            "_view_module_version": "1.2.0",
            "_view_name": "LayoutView",
            "align_content": null,
            "align_items": null,
            "align_self": null,
            "border": null,
            "bottom": null,
            "display": null,
            "flex": null,
            "flex_flow": null,
            "grid_area": null,
            "grid_auto_columns": null,
            "grid_auto_flow": null,
            "grid_auto_rows": null,
            "grid_column": null,
            "grid_gap": null,
            "grid_row": null,
            "grid_template_areas": null,
            "grid_template_columns": null,
            "grid_template_rows": null,
            "height": null,
            "justify_content": null,
            "justify_items": null,
            "left": null,
            "margin": null,
            "max_height": null,
            "max_width": null,
            "min_height": null,
            "min_width": null,
            "object_fit": null,
            "object_position": null,
            "order": null,
            "overflow": null,
            "overflow_x": null,
            "overflow_y": null,
            "padding": null,
            "right": null,
            "top": null,
            "visibility": null,
            "width": null
          }
        },
        "f6fd0c796bd04384a74b565a0f40f9cd": {
          "model_module": "@jupyter-widgets/base",
          "model_module_version": "1.2.0",
          "model_name": "LayoutModel",
          "state": {
            "_model_module": "@jupyter-widgets/base",
            "_model_module_version": "1.2.0",
            "_model_name": "LayoutModel",
            "_view_count": null,
            "_view_module": "@jupyter-widgets/base",
            "_view_module_version": "1.2.0",
            "_view_name": "LayoutView",
            "align_content": null,
            "align_items": null,
            "align_self": null,
            "border": null,
            "bottom": null,
            "display": null,
            "flex": null,
            "flex_flow": null,
            "grid_area": null,
            "grid_auto_columns": null,
            "grid_auto_flow": null,
            "grid_auto_rows": null,
            "grid_column": null,
            "grid_gap": null,
            "grid_row": null,
            "grid_template_areas": null,
            "grid_template_columns": null,
            "grid_template_rows": null,
            "height": null,
            "justify_content": null,
            "justify_items": null,
            "left": null,
            "margin": null,
            "max_height": null,
            "max_width": null,
            "min_height": null,
            "min_width": null,
            "object_fit": null,
            "object_position": null,
            "order": null,
            "overflow": null,
            "overflow_x": null,
            "overflow_y": null,
            "padding": null,
            "right": null,
            "top": null,
            "visibility": null,
            "width": null
          }
        }
      }
    }
  },
  "nbformat": 4,
  "nbformat_minor": 0
}
